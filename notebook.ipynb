{
 "cells": [
  {
   "cell_type": "code",
   "metadata": {
    "tags": [],
    "cell_id": "00000-0f8dc1dd-398d-46a2-8433-5f55022b0794",
    "deepnote_to_be_reexecuted": false,
    "source_hash": "ae4a67ad",
    "execution_start": 1638100241520,
    "execution_millis": 1097,
    "deepnote_cell_type": "code"
   },
   "source": "import numpy as np\nimport pandas as pd\nfrom statsmodels.stats.outliers_influence import variance_inflation_factor\nfrom imblearn.under_sampling import RandomUnderSampler\nimport matplotlib.pyplot as plt \nimport plotly.express as px\nimport plotly.graph_objs as go\nfrom plotly.offline import download_plotlyjs, init_notebook_mode, plot, iplot\nfrom sklearn.decomposition import PCA\nfrom sklearn.cluster import KMeans, MeanShift, AgglomerativeClustering, DBSCAN, Birch\nfrom sklearn.preprocessing import OrdinalEncoder, MinMaxScaler, StandardScaler\nfrom sklearn.metrics.cluster import adjusted_mutual_info_score\nfrom sklearn.compose import ColumnTransformer\nfrom sklearn.mixture import GaussianMixture\nfrom sklearn.neighbors import NearestCentroid\nfrom sklearn.metrics import f1_score\nimport scipy.cluster.hierarchy as sch\nfrom itertools import permutations",
   "outputs": [],
   "execution_count": null
  },
  {
   "cell_type": "code",
   "metadata": {
    "tags": [],
    "cell_id": "00001-6bd1f451-ead7-4b78-8504-8996cf2e4eda",
    "deepnote_to_be_reexecuted": false,
    "source_hash": "222119e5",
    "execution_start": 1638100242631,
    "execution_millis": 470,
    "deepnote_cell_type": "code"
   },
   "source": "df = pd.read_csv(\"covtype_train.csv\")",
   "outputs": [],
   "execution_count": null
  },
  {
   "cell_type": "markdown",
   "source": "# Preprocessing",
   "metadata": {
    "tags": [],
    "is_collapsed": false,
    "cell_id": "00002-69596900-25f1-41a6-9d8e-6df534f94292",
    "deepnote_cell_type": "text-cell-h1"
   }
  },
  {
   "cell_type": "markdown",
   "source": "## Converting columns having categorical values into numeric form",
   "metadata": {
    "tags": [],
    "is_collapsed": false,
    "cell_id": "00003-c715c3f1-6ea7-4644-9f88-fc8bb4d78f6b",
    "deepnote_cell_type": "text-cell-h2"
   }
  },
  {
   "cell_type": "code",
   "metadata": {
    "tags": [],
    "cell_id": "00003-c017b00a-bae3-4feb-adc1-bad8b18392c5",
    "deepnote_to_be_reexecuted": false,
    "source_hash": "f2a38a26",
    "execution_start": 1638100243135,
    "execution_millis": 929,
    "deepnote_cell_type": "code"
   },
   "source": "column_to_cat = {\n    \"Elevation\":[\"elevation_low\", \"elevation_medium\", \"elevation_high\", \"elevation_ultra\"],\n     \"Aspect\":[\"aspect_low\", \"aspect_medium\", \"aspect_high\", \"aspect_ultra\"],\n     \"Slope\":[\"slope_low\", \"slope_medium\", \"slope_high\", \"slope_ultra\"],\n     \"Hillshade_9am\":[\"hillshade_9am_min\", \"hillshade_9am_max\"],\n     \"Hillshade_Noon\":[\"hillnoon_min\", \"hillnoon_max\"],\n     \"Horizontal_Distance_To_Fire_Points\":[\"low\", \"mid\", \"high\"]\n}\ndf['Elevation'] = OrdinalEncoder(categories = [column_to_cat['Elevation']]).fit_transform(df[['Elevation']])\ndf['Aspect'] = OrdinalEncoder(categories = [column_to_cat['Aspect']]).fit_transform(df[['Aspect']])\ndf['Slope'] = OrdinalEncoder(categories = [column_to_cat['Slope']]).fit_transform(df[['Slope']])\ndf['Hillshade_9am'] = OrdinalEncoder(categories = [column_to_cat['Hillshade_9am']]).fit_transform(df[['Hillshade_9am']])\ndf['Hillshade_Noon'] = OrdinalEncoder(categories = [column_to_cat['Hillshade_Noon']]).fit_transform(df[['Hillshade_Noon']])\ndf['Horizontal_Distance_To_Fire_Points'] = OrdinalEncoder(categories = [column_to_cat['Horizontal_Distance_To_Fire_Points']]).fit_transform(df[['Horizontal_Distance_To_Fire_Points']])\ndf.head()",
   "outputs": [
    {
     "output_type": "execute_result",
     "execution_count": 3,
     "data": {
      "application/vnd.deepnote.dataframe.v2+json": {
       "row_count": 5,
       "column_count": 11,
       "columns": [
        {
         "name": "Elevation",
         "dtype": "float64",
         "stats": {
          "unique_count": 2,
          "nan_count": 0,
          "min": "1.0",
          "max": "2.0",
          "histogram": [
           {
            "bin_start": 1,
            "bin_end": 1.1,
            "count": 2
           },
           {
            "bin_start": 1.1,
            "bin_end": 1.2,
            "count": 0
           },
           {
            "bin_start": 1.2,
            "bin_end": 1.3,
            "count": 0
           },
           {
            "bin_start": 1.3,
            "bin_end": 1.4,
            "count": 0
           },
           {
            "bin_start": 1.4,
            "bin_end": 1.5,
            "count": 0
           },
           {
            "bin_start": 1.5,
            "bin_end": 1.6,
            "count": 0
           },
           {
            "bin_start": 1.6,
            "bin_end": 1.7000000000000002,
            "count": 0
           },
           {
            "bin_start": 1.7000000000000002,
            "bin_end": 1.8,
            "count": 0
           },
           {
            "bin_start": 1.8,
            "bin_end": 1.9,
            "count": 0
           },
           {
            "bin_start": 1.9,
            "bin_end": 2,
            "count": 3
           }
          ]
         }
        },
        {
         "name": "Aspect",
         "dtype": "float64",
         "stats": {
          "unique_count": 4,
          "nan_count": 0,
          "min": "0.0",
          "max": "3.0",
          "histogram": [
           {
            "bin_start": 0,
            "bin_end": 0.3,
            "count": 1
           },
           {
            "bin_start": 0.3,
            "bin_end": 0.6,
            "count": 0
           },
           {
            "bin_start": 0.6,
            "bin_end": 0.8999999999999999,
            "count": 0
           },
           {
            "bin_start": 0.8999999999999999,
            "bin_end": 1.2,
            "count": 2
           },
           {
            "bin_start": 1.2,
            "bin_end": 1.5,
            "count": 0
           },
           {
            "bin_start": 1.5,
            "bin_end": 1.7999999999999998,
            "count": 0
           },
           {
            "bin_start": 1.7999999999999998,
            "bin_end": 2.1,
            "count": 1
           },
           {
            "bin_start": 2.1,
            "bin_end": 2.4,
            "count": 0
           },
           {
            "bin_start": 2.4,
            "bin_end": 2.6999999999999997,
            "count": 0
           },
           {
            "bin_start": 2.6999999999999997,
            "bin_end": 3,
            "count": 1
           }
          ]
         }
        },
        {
         "name": "Slope",
         "dtype": "float64",
         "stats": {
          "unique_count": 2,
          "nan_count": 0,
          "min": "0.0",
          "max": "1.0",
          "histogram": [
           {
            "bin_start": 0,
            "bin_end": 0.1,
            "count": 4
           },
           {
            "bin_start": 0.1,
            "bin_end": 0.2,
            "count": 0
           },
           {
            "bin_start": 0.2,
            "bin_end": 0.30000000000000004,
            "count": 0
           },
           {
            "bin_start": 0.30000000000000004,
            "bin_end": 0.4,
            "count": 0
           },
           {
            "bin_start": 0.4,
            "bin_end": 0.5,
            "count": 0
           },
           {
            "bin_start": 0.5,
            "bin_end": 0.6000000000000001,
            "count": 0
           },
           {
            "bin_start": 0.6000000000000001,
            "bin_end": 0.7000000000000001,
            "count": 0
           },
           {
            "bin_start": 0.7000000000000001,
            "bin_end": 0.8,
            "count": 0
           },
           {
            "bin_start": 0.8,
            "bin_end": 0.9,
            "count": 0
           },
           {
            "bin_start": 0.9,
            "bin_end": 1,
            "count": 1
           }
          ]
         }
        },
        {
         "name": "Hillshade_9am",
         "dtype": "float64",
         "stats": {
          "unique_count": 1,
          "nan_count": 0,
          "min": "1.0",
          "max": "1.0",
          "histogram": [
           {
            "bin_start": 0.5,
            "bin_end": 0.6,
            "count": 0
           },
           {
            "bin_start": 0.6,
            "bin_end": 0.7,
            "count": 0
           },
           {
            "bin_start": 0.7,
            "bin_end": 0.8,
            "count": 0
           },
           {
            "bin_start": 0.8,
            "bin_end": 0.9,
            "count": 0
           },
           {
            "bin_start": 0.9,
            "bin_end": 1,
            "count": 0
           },
           {
            "bin_start": 1,
            "bin_end": 1.1,
            "count": 5
           },
           {
            "bin_start": 1.1,
            "bin_end": 1.2000000000000002,
            "count": 0
           },
           {
            "bin_start": 1.2000000000000002,
            "bin_end": 1.3,
            "count": 0
           },
           {
            "bin_start": 1.3,
            "bin_end": 1.4,
            "count": 0
           },
           {
            "bin_start": 1.4,
            "bin_end": 1.5,
            "count": 0
           }
          ]
         }
        },
        {
         "name": "Hillshade_Noon",
         "dtype": "float64",
         "stats": {
          "unique_count": 1,
          "nan_count": 0,
          "min": "1.0",
          "max": "1.0",
          "histogram": [
           {
            "bin_start": 0.5,
            "bin_end": 0.6,
            "count": 0
           },
           {
            "bin_start": 0.6,
            "bin_end": 0.7,
            "count": 0
           },
           {
            "bin_start": 0.7,
            "bin_end": 0.8,
            "count": 0
           },
           {
            "bin_start": 0.8,
            "bin_end": 0.9,
            "count": 0
           },
           {
            "bin_start": 0.9,
            "bin_end": 1,
            "count": 0
           },
           {
            "bin_start": 1,
            "bin_end": 1.1,
            "count": 5
           },
           {
            "bin_start": 1.1,
            "bin_end": 1.2000000000000002,
            "count": 0
           },
           {
            "bin_start": 1.2000000000000002,
            "bin_end": 1.3,
            "count": 0
           },
           {
            "bin_start": 1.3,
            "bin_end": 1.4,
            "count": 0
           },
           {
            "bin_start": 1.4,
            "bin_end": 1.5,
            "count": 0
           }
          ]
         }
        },
        {
         "name": "Horizontal_Distance_To_Hydrology",
         "dtype": "int64",
         "stats": {
          "unique_count": 3,
          "nan_count": 0,
          "min": "0",
          "max": "2",
          "histogram": [
           {
            "bin_start": 0,
            "bin_end": 0.2,
            "count": 1
           },
           {
            "bin_start": 0.2,
            "bin_end": 0.4,
            "count": 0
           },
           {
            "bin_start": 0.4,
            "bin_end": 0.6000000000000001,
            "count": 0
           },
           {
            "bin_start": 0.6000000000000001,
            "bin_end": 0.8,
            "count": 0
           },
           {
            "bin_start": 0.8,
            "bin_end": 1,
            "count": 0
           },
           {
            "bin_start": 1,
            "bin_end": 1.2000000000000002,
            "count": 2
           },
           {
            "bin_start": 1.2000000000000002,
            "bin_end": 1.4000000000000001,
            "count": 0
           },
           {
            "bin_start": 1.4000000000000001,
            "bin_end": 1.6,
            "count": 0
           },
           {
            "bin_start": 1.6,
            "bin_end": 1.8,
            "count": 0
           },
           {
            "bin_start": 1.8,
            "bin_end": 2,
            "count": 2
           }
          ]
         }
        },
        {
         "name": "Vertical_Distance_To_Hydrology",
         "dtype": "int64",
         "stats": {
          "unique_count": 1,
          "nan_count": 0,
          "min": "1",
          "max": "1",
          "histogram": [
           {
            "bin_start": 0.5,
            "bin_end": 0.6,
            "count": 0
           },
           {
            "bin_start": 0.6,
            "bin_end": 0.7,
            "count": 0
           },
           {
            "bin_start": 0.7,
            "bin_end": 0.8,
            "count": 0
           },
           {
            "bin_start": 0.8,
            "bin_end": 0.9,
            "count": 0
           },
           {
            "bin_start": 0.9,
            "bin_end": 1,
            "count": 0
           },
           {
            "bin_start": 1,
            "bin_end": 1.1,
            "count": 5
           },
           {
            "bin_start": 1.1,
            "bin_end": 1.2000000000000002,
            "count": 0
           },
           {
            "bin_start": 1.2000000000000002,
            "bin_end": 1.3,
            "count": 0
           },
           {
            "bin_start": 1.3,
            "bin_end": 1.4,
            "count": 0
           },
           {
            "bin_start": 1.4,
            "bin_end": 1.5,
            "count": 0
           }
          ]
         }
        },
        {
         "name": "Horizontal_Distance_To_Fire_Points",
         "dtype": "float64",
         "stats": {
          "unique_count": 2,
          "nan_count": 0,
          "min": "0.0",
          "max": "1.0",
          "histogram": [
           {
            "bin_start": 0,
            "bin_end": 0.1,
            "count": 3
           },
           {
            "bin_start": 0.1,
            "bin_end": 0.2,
            "count": 0
           },
           {
            "bin_start": 0.2,
            "bin_end": 0.30000000000000004,
            "count": 0
           },
           {
            "bin_start": 0.30000000000000004,
            "bin_end": 0.4,
            "count": 0
           },
           {
            "bin_start": 0.4,
            "bin_end": 0.5,
            "count": 0
           },
           {
            "bin_start": 0.5,
            "bin_end": 0.6000000000000001,
            "count": 0
           },
           {
            "bin_start": 0.6000000000000001,
            "bin_end": 0.7000000000000001,
            "count": 0
           },
           {
            "bin_start": 0.7000000000000001,
            "bin_end": 0.8,
            "count": 0
           },
           {
            "bin_start": 0.8,
            "bin_end": 0.9,
            "count": 0
           },
           {
            "bin_start": 0.9,
            "bin_end": 1,
            "count": 2
           }
          ]
         }
        },
        {
         "name": "Soil_Type",
         "dtype": "int64",
         "stats": {
          "unique_count": 5,
          "nan_count": 0,
          "min": "10",
          "max": "32",
          "histogram": [
           {
            "bin_start": 10,
            "bin_end": 12.2,
            "count": 1
           },
           {
            "bin_start": 12.2,
            "bin_end": 14.4,
            "count": 0
           },
           {
            "bin_start": 14.4,
            "bin_end": 16.6,
            "count": 0
           },
           {
            "bin_start": 16.6,
            "bin_end": 18.8,
            "count": 0
           },
           {
            "bin_start": 18.8,
            "bin_end": 21,
            "count": 0
           },
           {
            "bin_start": 21,
            "bin_end": 23.200000000000003,
            "count": 2
           },
           {
            "bin_start": 23.200000000000003,
            "bin_end": 25.400000000000002,
            "count": 0
           },
           {
            "bin_start": 25.400000000000002,
            "bin_end": 27.6,
            "count": 0
           },
           {
            "bin_start": 27.6,
            "bin_end": 29.8,
            "count": 1
           },
           {
            "bin_start": 29.8,
            "bin_end": 32,
            "count": 1
           }
          ]
         }
        },
        {
         "name": "Wilderness",
         "dtype": "int64",
         "stats": {
          "unique_count": 2,
          "nan_count": 0,
          "min": "0",
          "max": "2",
          "histogram": [
           {
            "bin_start": 0,
            "bin_end": 0.2,
            "count": 2
           },
           {
            "bin_start": 0.2,
            "bin_end": 0.4,
            "count": 0
           },
           {
            "bin_start": 0.4,
            "bin_end": 0.6000000000000001,
            "count": 0
           },
           {
            "bin_start": 0.6000000000000001,
            "bin_end": 0.8,
            "count": 0
           },
           {
            "bin_start": 0.8,
            "bin_end": 1,
            "count": 0
           },
           {
            "bin_start": 1,
            "bin_end": 1.2000000000000002,
            "count": 0
           },
           {
            "bin_start": 1.2000000000000002,
            "bin_end": 1.4000000000000001,
            "count": 0
           },
           {
            "bin_start": 1.4000000000000001,
            "bin_end": 1.6,
            "count": 0
           },
           {
            "bin_start": 1.6,
            "bin_end": 1.8,
            "count": 0
           },
           {
            "bin_start": 1.8,
            "bin_end": 2,
            "count": 3
           }
          ]
         }
        },
        {
         "name": "target",
         "dtype": "int64",
         "stats": {
          "unique_count": 2,
          "nan_count": 0,
          "min": "1",
          "max": "2",
          "histogram": [
           {
            "bin_start": 1,
            "bin_end": 1.1,
            "count": 2
           },
           {
            "bin_start": 1.1,
            "bin_end": 1.2,
            "count": 0
           },
           {
            "bin_start": 1.2,
            "bin_end": 1.3,
            "count": 0
           },
           {
            "bin_start": 1.3,
            "bin_end": 1.4,
            "count": 0
           },
           {
            "bin_start": 1.4,
            "bin_end": 1.5,
            "count": 0
           },
           {
            "bin_start": 1.5,
            "bin_end": 1.6,
            "count": 0
           },
           {
            "bin_start": 1.6,
            "bin_end": 1.7000000000000002,
            "count": 0
           },
           {
            "bin_start": 1.7000000000000002,
            "bin_end": 1.8,
            "count": 0
           },
           {
            "bin_start": 1.8,
            "bin_end": 1.9,
            "count": 0
           },
           {
            "bin_start": 1.9,
            "bin_end": 2,
            "count": 3
           }
          ]
         }
        },
        {
         "name": "_deepnote_index_column",
         "dtype": "int64"
        }
       ],
       "rows_top": [
        {
         "Elevation": 1,
         "Aspect": 1,
         "Slope": 0,
         "Hillshade_9am": 1,
         "Hillshade_Noon": 1,
         "Horizontal_Distance_To_Hydrology": 0,
         "Vertical_Distance_To_Hydrology": 1,
         "Horizontal_Distance_To_Fire_Points": 0,
         "Soil_Type": 22,
         "Wilderness": 0,
         "target": 2,
         "_deepnote_index_column": 0
        },
        {
         "Elevation": 2,
         "Aspect": 1,
         "Slope": 0,
         "Hillshade_9am": 1,
         "Hillshade_Noon": 1,
         "Horizontal_Distance_To_Hydrology": 1,
         "Vertical_Distance_To_Hydrology": 1,
         "Horizontal_Distance_To_Fire_Points": 1,
         "Soil_Type": 32,
         "Wilderness": 2,
         "target": 1,
         "_deepnote_index_column": 1
        },
        {
         "Elevation": 1,
         "Aspect": 0,
         "Slope": 0,
         "Hillshade_9am": 1,
         "Hillshade_Noon": 1,
         "Horizontal_Distance_To_Hydrology": 1,
         "Vertical_Distance_To_Hydrology": 1,
         "Horizontal_Distance_To_Fire_Points": 0,
         "Soil_Type": 10,
         "Wilderness": 2,
         "target": 2,
         "_deepnote_index_column": 2
        },
        {
         "Elevation": 2,
         "Aspect": 3,
         "Slope": 1,
         "Hillshade_9am": 1,
         "Hillshade_Noon": 1,
         "Horizontal_Distance_To_Hydrology": 2,
         "Vertical_Distance_To_Hydrology": 1,
         "Horizontal_Distance_To_Fire_Points": 0,
         "Soil_Type": 23,
         "Wilderness": 2,
         "target": 1,
         "_deepnote_index_column": 3
        },
        {
         "Elevation": 2,
         "Aspect": 2,
         "Slope": 0,
         "Hillshade_9am": 1,
         "Hillshade_Noon": 1,
         "Horizontal_Distance_To_Hydrology": 2,
         "Vertical_Distance_To_Hydrology": 1,
         "Horizontal_Distance_To_Fire_Points": 1,
         "Soil_Type": 28,
         "Wilderness": 0,
         "target": 2,
         "_deepnote_index_column": 4
        }
       ],
       "rows_bottom": null
      },
      "text/plain": "   Elevation  Aspect  Slope  Hillshade_9am  Hillshade_Noon  \\\n0        1.0     1.0    0.0            1.0             1.0   \n1        2.0     1.0    0.0            1.0             1.0   \n2        1.0     0.0    0.0            1.0             1.0   \n3        2.0     3.0    1.0            1.0             1.0   \n4        2.0     2.0    0.0            1.0             1.0   \n\n   Horizontal_Distance_To_Hydrology  Vertical_Distance_To_Hydrology  \\\n0                                 0                               1   \n1                                 1                               1   \n2                                 1                               1   \n3                                 2                               1   \n4                                 2                               1   \n\n   Horizontal_Distance_To_Fire_Points  Soil_Type  Wilderness  target  \n0                                 0.0         22           0       2  \n1                                 1.0         32           2       1  \n2                                 0.0         10           2       2  \n3                                 0.0         23           2       1  \n4                                 1.0         28           0       2  ",
      "text/html": "<div>\n<style scoped>\n    .dataframe tbody tr th:only-of-type {\n        vertical-align: middle;\n    }\n\n    .dataframe tbody tr th {\n        vertical-align: top;\n    }\n\n    .dataframe thead th {\n        text-align: right;\n    }\n</style>\n<table border=\"1\" class=\"dataframe\">\n  <thead>\n    <tr style=\"text-align: right;\">\n      <th></th>\n      <th>Elevation</th>\n      <th>Aspect</th>\n      <th>Slope</th>\n      <th>Hillshade_9am</th>\n      <th>Hillshade_Noon</th>\n      <th>Horizontal_Distance_To_Hydrology</th>\n      <th>Vertical_Distance_To_Hydrology</th>\n      <th>Horizontal_Distance_To_Fire_Points</th>\n      <th>Soil_Type</th>\n      <th>Wilderness</th>\n      <th>target</th>\n    </tr>\n  </thead>\n  <tbody>\n    <tr>\n      <th>0</th>\n      <td>1.0</td>\n      <td>1.0</td>\n      <td>0.0</td>\n      <td>1.0</td>\n      <td>1.0</td>\n      <td>0</td>\n      <td>1</td>\n      <td>0.0</td>\n      <td>22</td>\n      <td>0</td>\n      <td>2</td>\n    </tr>\n    <tr>\n      <th>1</th>\n      <td>2.0</td>\n      <td>1.0</td>\n      <td>0.0</td>\n      <td>1.0</td>\n      <td>1.0</td>\n      <td>1</td>\n      <td>1</td>\n      <td>1.0</td>\n      <td>32</td>\n      <td>2</td>\n      <td>1</td>\n    </tr>\n    <tr>\n      <th>2</th>\n      <td>1.0</td>\n      <td>0.0</td>\n      <td>0.0</td>\n      <td>1.0</td>\n      <td>1.0</td>\n      <td>1</td>\n      <td>1</td>\n      <td>0.0</td>\n      <td>10</td>\n      <td>2</td>\n      <td>2</td>\n    </tr>\n    <tr>\n      <th>3</th>\n      <td>2.0</td>\n      <td>3.0</td>\n      <td>1.0</td>\n      <td>1.0</td>\n      <td>1.0</td>\n      <td>2</td>\n      <td>1</td>\n      <td>0.0</td>\n      <td>23</td>\n      <td>2</td>\n      <td>1</td>\n    </tr>\n    <tr>\n      <th>4</th>\n      <td>2.0</td>\n      <td>2.0</td>\n      <td>0.0</td>\n      <td>1.0</td>\n      <td>1.0</td>\n      <td>2</td>\n      <td>1</td>\n      <td>1.0</td>\n      <td>28</td>\n      <td>0</td>\n      <td>2</td>\n    </tr>\n  </tbody>\n</table>\n</div>"
     },
     "metadata": {}
    }
   ],
   "execution_count": null
  },
  {
   "cell_type": "markdown",
   "source": "## Reducing dimensionality of the dataset by combining two columns",
   "metadata": {
    "tags": [],
    "is_collapsed": false,
    "cell_id": "00006-9836cdad-5f1a-4bfb-bf7e-bba1a258c2ca",
    "deepnote_cell_type": "text-cell-h2"
   }
  },
  {
   "cell_type": "code",
   "metadata": {
    "tags": [],
    "cell_id": "00007-76af4889-a21b-4f1f-9530-96e9d5f19e6d",
    "deepnote_to_be_reexecuted": false,
    "source_hash": "67484ae8",
    "execution_start": 1638100244071,
    "execution_millis": 29,
    "deepnote_cell_type": "code"
   },
   "source": "df['Distance_To_Hydrology'] = np.sqrt(np.square(df['Horizontal_Distance_To_Hydrology']) + np.square(df['Vertical_Distance_To_Hydrology']))\ndf = df.drop(columns=['Horizontal_Distance_To_Hydrology', 'Vertical_Distance_To_Hydrology'])",
   "outputs": [],
   "execution_count": null
  },
  {
   "cell_type": "markdown",
   "source": "## Basic Analysis",
   "metadata": {
    "tags": [],
    "is_collapsed": false,
    "cell_id": "00008-bc768811-dfaf-4f55-b2cc-5eb35ef4ec3b",
    "deepnote_cell_type": "text-cell-h2"
   }
  },
  {
   "cell_type": "code",
   "metadata": {
    "tags": [],
    "cell_id": "00008-e137ac4f-f488-4474-820b-f0b75e0d811a",
    "deepnote_to_be_reexecuted": false,
    "source_hash": "2f88c77a",
    "execution_start": 1638100244107,
    "execution_millis": 7,
    "deepnote_output_heights": [
     21.1875
    ],
    "deepnote_cell_type": "code"
   },
   "source": "len(df)",
   "outputs": [
    {
     "output_type": "execute_result",
     "execution_count": 5,
     "data": {
      "text/plain": "406708"
     },
     "metadata": {}
    }
   ],
   "execution_count": null
  },
  {
   "cell_type": "code",
   "metadata": {
    "tags": [],
    "cell_id": "00008-0697334a-97bd-4170-864e-c0074197d555",
    "deepnote_to_be_reexecuted": false,
    "source_hash": "109e4839",
    "execution_start": 1638100244151,
    "execution_millis": 8,
    "deepnote_cell_type": "code"
   },
   "source": "df[df.isnull().any(axis=1)]",
   "outputs": [
    {
     "output_type": "execute_result",
     "execution_count": 6,
     "data": {
      "application/vnd.deepnote.dataframe.v2+json": {
       "row_count": 0,
       "column_count": 10,
       "columns": [
        {
         "name": "Elevation",
         "dtype": "float64",
         "stats": {
          "unique_count": 0,
          "nan_count": 0,
          "min": null,
          "max": null,
          "histogram": [
           {
            "bin_start": 0,
            "bin_end": 0.1,
            "count": 0
           },
           {
            "bin_start": 0.1,
            "bin_end": 0.2,
            "count": 0
           },
           {
            "bin_start": 0.2,
            "bin_end": 0.30000000000000004,
            "count": 0
           },
           {
            "bin_start": 0.30000000000000004,
            "bin_end": 0.4,
            "count": 0
           },
           {
            "bin_start": 0.4,
            "bin_end": 0.5,
            "count": 0
           },
           {
            "bin_start": 0.5,
            "bin_end": 0.6000000000000001,
            "count": 0
           },
           {
            "bin_start": 0.6000000000000001,
            "bin_end": 0.7000000000000001,
            "count": 0
           },
           {
            "bin_start": 0.7000000000000001,
            "bin_end": 0.8,
            "count": 0
           },
           {
            "bin_start": 0.8,
            "bin_end": 0.9,
            "count": 0
           },
           {
            "bin_start": 0.9,
            "bin_end": 1,
            "count": 0
           }
          ]
         }
        },
        {
         "name": "Aspect",
         "dtype": "float64",
         "stats": {
          "unique_count": 0,
          "nan_count": 0,
          "min": null,
          "max": null,
          "histogram": [
           {
            "bin_start": 0,
            "bin_end": 0.1,
            "count": 0
           },
           {
            "bin_start": 0.1,
            "bin_end": 0.2,
            "count": 0
           },
           {
            "bin_start": 0.2,
            "bin_end": 0.30000000000000004,
            "count": 0
           },
           {
            "bin_start": 0.30000000000000004,
            "bin_end": 0.4,
            "count": 0
           },
           {
            "bin_start": 0.4,
            "bin_end": 0.5,
            "count": 0
           },
           {
            "bin_start": 0.5,
            "bin_end": 0.6000000000000001,
            "count": 0
           },
           {
            "bin_start": 0.6000000000000001,
            "bin_end": 0.7000000000000001,
            "count": 0
           },
           {
            "bin_start": 0.7000000000000001,
            "bin_end": 0.8,
            "count": 0
           },
           {
            "bin_start": 0.8,
            "bin_end": 0.9,
            "count": 0
           },
           {
            "bin_start": 0.9,
            "bin_end": 1,
            "count": 0
           }
          ]
         }
        },
        {
         "name": "Slope",
         "dtype": "float64",
         "stats": {
          "unique_count": 0,
          "nan_count": 0,
          "min": null,
          "max": null,
          "histogram": [
           {
            "bin_start": 0,
            "bin_end": 0.1,
            "count": 0
           },
           {
            "bin_start": 0.1,
            "bin_end": 0.2,
            "count": 0
           },
           {
            "bin_start": 0.2,
            "bin_end": 0.30000000000000004,
            "count": 0
           },
           {
            "bin_start": 0.30000000000000004,
            "bin_end": 0.4,
            "count": 0
           },
           {
            "bin_start": 0.4,
            "bin_end": 0.5,
            "count": 0
           },
           {
            "bin_start": 0.5,
            "bin_end": 0.6000000000000001,
            "count": 0
           },
           {
            "bin_start": 0.6000000000000001,
            "bin_end": 0.7000000000000001,
            "count": 0
           },
           {
            "bin_start": 0.7000000000000001,
            "bin_end": 0.8,
            "count": 0
           },
           {
            "bin_start": 0.8,
            "bin_end": 0.9,
            "count": 0
           },
           {
            "bin_start": 0.9,
            "bin_end": 1,
            "count": 0
           }
          ]
         }
        },
        {
         "name": "Hillshade_9am",
         "dtype": "float64",
         "stats": {
          "unique_count": 0,
          "nan_count": 0,
          "min": null,
          "max": null,
          "histogram": [
           {
            "bin_start": 0,
            "bin_end": 0.1,
            "count": 0
           },
           {
            "bin_start": 0.1,
            "bin_end": 0.2,
            "count": 0
           },
           {
            "bin_start": 0.2,
            "bin_end": 0.30000000000000004,
            "count": 0
           },
           {
            "bin_start": 0.30000000000000004,
            "bin_end": 0.4,
            "count": 0
           },
           {
            "bin_start": 0.4,
            "bin_end": 0.5,
            "count": 0
           },
           {
            "bin_start": 0.5,
            "bin_end": 0.6000000000000001,
            "count": 0
           },
           {
            "bin_start": 0.6000000000000001,
            "bin_end": 0.7000000000000001,
            "count": 0
           },
           {
            "bin_start": 0.7000000000000001,
            "bin_end": 0.8,
            "count": 0
           },
           {
            "bin_start": 0.8,
            "bin_end": 0.9,
            "count": 0
           },
           {
            "bin_start": 0.9,
            "bin_end": 1,
            "count": 0
           }
          ]
         }
        },
        {
         "name": "Hillshade_Noon",
         "dtype": "float64",
         "stats": {
          "unique_count": 0,
          "nan_count": 0,
          "min": null,
          "max": null,
          "histogram": [
           {
            "bin_start": 0,
            "bin_end": 0.1,
            "count": 0
           },
           {
            "bin_start": 0.1,
            "bin_end": 0.2,
            "count": 0
           },
           {
            "bin_start": 0.2,
            "bin_end": 0.30000000000000004,
            "count": 0
           },
           {
            "bin_start": 0.30000000000000004,
            "bin_end": 0.4,
            "count": 0
           },
           {
            "bin_start": 0.4,
            "bin_end": 0.5,
            "count": 0
           },
           {
            "bin_start": 0.5,
            "bin_end": 0.6000000000000001,
            "count": 0
           },
           {
            "bin_start": 0.6000000000000001,
            "bin_end": 0.7000000000000001,
            "count": 0
           },
           {
            "bin_start": 0.7000000000000001,
            "bin_end": 0.8,
            "count": 0
           },
           {
            "bin_start": 0.8,
            "bin_end": 0.9,
            "count": 0
           },
           {
            "bin_start": 0.9,
            "bin_end": 1,
            "count": 0
           }
          ]
         }
        },
        {
         "name": "Horizontal_Distance_To_Fire_Points",
         "dtype": "float64",
         "stats": {
          "unique_count": 0,
          "nan_count": 0,
          "min": null,
          "max": null,
          "histogram": [
           {
            "bin_start": 0,
            "bin_end": 0.1,
            "count": 0
           },
           {
            "bin_start": 0.1,
            "bin_end": 0.2,
            "count": 0
           },
           {
            "bin_start": 0.2,
            "bin_end": 0.30000000000000004,
            "count": 0
           },
           {
            "bin_start": 0.30000000000000004,
            "bin_end": 0.4,
            "count": 0
           },
           {
            "bin_start": 0.4,
            "bin_end": 0.5,
            "count": 0
           },
           {
            "bin_start": 0.5,
            "bin_end": 0.6000000000000001,
            "count": 0
           },
           {
            "bin_start": 0.6000000000000001,
            "bin_end": 0.7000000000000001,
            "count": 0
           },
           {
            "bin_start": 0.7000000000000001,
            "bin_end": 0.8,
            "count": 0
           },
           {
            "bin_start": 0.8,
            "bin_end": 0.9,
            "count": 0
           },
           {
            "bin_start": 0.9,
            "bin_end": 1,
            "count": 0
           }
          ]
         }
        },
        {
         "name": "Soil_Type",
         "dtype": "int64",
         "stats": {
          "unique_count": 0,
          "nan_count": 0,
          "min": null,
          "max": null,
          "histogram": [
           {
            "bin_start": 0,
            "bin_end": 0.1,
            "count": 0
           },
           {
            "bin_start": 0.1,
            "bin_end": 0.2,
            "count": 0
           },
           {
            "bin_start": 0.2,
            "bin_end": 0.30000000000000004,
            "count": 0
           },
           {
            "bin_start": 0.30000000000000004,
            "bin_end": 0.4,
            "count": 0
           },
           {
            "bin_start": 0.4,
            "bin_end": 0.5,
            "count": 0
           },
           {
            "bin_start": 0.5,
            "bin_end": 0.6000000000000001,
            "count": 0
           },
           {
            "bin_start": 0.6000000000000001,
            "bin_end": 0.7000000000000001,
            "count": 0
           },
           {
            "bin_start": 0.7000000000000001,
            "bin_end": 0.8,
            "count": 0
           },
           {
            "bin_start": 0.8,
            "bin_end": 0.9,
            "count": 0
           },
           {
            "bin_start": 0.9,
            "bin_end": 1,
            "count": 0
           }
          ]
         }
        },
        {
         "name": "Wilderness",
         "dtype": "int64",
         "stats": {
          "unique_count": 0,
          "nan_count": 0,
          "min": null,
          "max": null,
          "histogram": [
           {
            "bin_start": 0,
            "bin_end": 0.1,
            "count": 0
           },
           {
            "bin_start": 0.1,
            "bin_end": 0.2,
            "count": 0
           },
           {
            "bin_start": 0.2,
            "bin_end": 0.30000000000000004,
            "count": 0
           },
           {
            "bin_start": 0.30000000000000004,
            "bin_end": 0.4,
            "count": 0
           },
           {
            "bin_start": 0.4,
            "bin_end": 0.5,
            "count": 0
           },
           {
            "bin_start": 0.5,
            "bin_end": 0.6000000000000001,
            "count": 0
           },
           {
            "bin_start": 0.6000000000000001,
            "bin_end": 0.7000000000000001,
            "count": 0
           },
           {
            "bin_start": 0.7000000000000001,
            "bin_end": 0.8,
            "count": 0
           },
           {
            "bin_start": 0.8,
            "bin_end": 0.9,
            "count": 0
           },
           {
            "bin_start": 0.9,
            "bin_end": 1,
            "count": 0
           }
          ]
         }
        },
        {
         "name": "target",
         "dtype": "int64",
         "stats": {
          "unique_count": 0,
          "nan_count": 0,
          "min": null,
          "max": null,
          "histogram": [
           {
            "bin_start": 0,
            "bin_end": 0.1,
            "count": 0
           },
           {
            "bin_start": 0.1,
            "bin_end": 0.2,
            "count": 0
           },
           {
            "bin_start": 0.2,
            "bin_end": 0.30000000000000004,
            "count": 0
           },
           {
            "bin_start": 0.30000000000000004,
            "bin_end": 0.4,
            "count": 0
           },
           {
            "bin_start": 0.4,
            "bin_end": 0.5,
            "count": 0
           },
           {
            "bin_start": 0.5,
            "bin_end": 0.6000000000000001,
            "count": 0
           },
           {
            "bin_start": 0.6000000000000001,
            "bin_end": 0.7000000000000001,
            "count": 0
           },
           {
            "bin_start": 0.7000000000000001,
            "bin_end": 0.8,
            "count": 0
           },
           {
            "bin_start": 0.8,
            "bin_end": 0.9,
            "count": 0
           },
           {
            "bin_start": 0.9,
            "bin_end": 1,
            "count": 0
           }
          ]
         }
        },
        {
         "name": "Distance_To_Hydrology",
         "dtype": "float64",
         "stats": {
          "unique_count": 0,
          "nan_count": 0,
          "min": null,
          "max": null,
          "histogram": [
           {
            "bin_start": 0,
            "bin_end": 0.1,
            "count": 0
           },
           {
            "bin_start": 0.1,
            "bin_end": 0.2,
            "count": 0
           },
           {
            "bin_start": 0.2,
            "bin_end": 0.30000000000000004,
            "count": 0
           },
           {
            "bin_start": 0.30000000000000004,
            "bin_end": 0.4,
            "count": 0
           },
           {
            "bin_start": 0.4,
            "bin_end": 0.5,
            "count": 0
           },
           {
            "bin_start": 0.5,
            "bin_end": 0.6000000000000001,
            "count": 0
           },
           {
            "bin_start": 0.6000000000000001,
            "bin_end": 0.7000000000000001,
            "count": 0
           },
           {
            "bin_start": 0.7000000000000001,
            "bin_end": 0.8,
            "count": 0
           },
           {
            "bin_start": 0.8,
            "bin_end": 0.9,
            "count": 0
           },
           {
            "bin_start": 0.9,
            "bin_end": 1,
            "count": 0
           }
          ]
         }
        },
        {
         "name": "_deepnote_index_column",
         "dtype": "int64"
        }
       ],
       "rows_top": [],
       "rows_bottom": null
      },
      "text/plain": "Empty DataFrame\nColumns: [Elevation, Aspect, Slope, Hillshade_9am, Hillshade_Noon, Horizontal_Distance_To_Fire_Points, Soil_Type, Wilderness, target, Distance_To_Hydrology]\nIndex: []",
      "text/html": "<div>\n<style scoped>\n    .dataframe tbody tr th:only-of-type {\n        vertical-align: middle;\n    }\n\n    .dataframe tbody tr th {\n        vertical-align: top;\n    }\n\n    .dataframe thead th {\n        text-align: right;\n    }\n</style>\n<table border=\"1\" class=\"dataframe\">\n  <thead>\n    <tr style=\"text-align: right;\">\n      <th></th>\n      <th>Elevation</th>\n      <th>Aspect</th>\n      <th>Slope</th>\n      <th>Hillshade_9am</th>\n      <th>Hillshade_Noon</th>\n      <th>Horizontal_Distance_To_Fire_Points</th>\n      <th>Soil_Type</th>\n      <th>Wilderness</th>\n      <th>target</th>\n      <th>Distance_To_Hydrology</th>\n    </tr>\n  </thead>\n  <tbody>\n  </tbody>\n</table>\n</div>"
     },
     "metadata": {}
    }
   ],
   "execution_count": null
  },
  {
   "cell_type": "code",
   "metadata": {
    "tags": [],
    "cell_id": "00009-eb336e1f-3756-4196-8783-58e78da2dfbc",
    "deepnote_to_be_reexecuted": false,
    "source_hash": "f3dd26da",
    "execution_start": 1638100244161,
    "execution_millis": 13,
    "deepnote_output_heights": [
     213.0625
    ],
    "deepnote_cell_type": "code"
   },
   "source": "df.isnull().sum()",
   "outputs": [
    {
     "output_type": "execute_result",
     "execution_count": 7,
     "data": {
      "text/plain": "Elevation                             0\nAspect                                0\nSlope                                 0\nHillshade_9am                         0\nHillshade_Noon                        0\nHorizontal_Distance_To_Fire_Points    0\nSoil_Type                             0\nWilderness                            0\ntarget                                0\nDistance_To_Hydrology                 0\ndtype: int64"
     },
     "metadata": {}
    }
   ],
   "execution_count": null
  },
  {
   "cell_type": "code",
   "metadata": {
    "tags": [],
    "cell_id": "00010-41cbebbd-fc6e-4764-a9f3-39f6c4a3c61e",
    "deepnote_to_be_reexecuted": false,
    "source_hash": "f88152d9",
    "execution_start": 1638100244191,
    "execution_millis": 213,
    "deepnote_cell_type": "code"
   },
   "source": "df.describe()",
   "outputs": [
    {
     "output_type": "execute_result",
     "execution_count": 8,
     "data": {
      "application/vnd.deepnote.dataframe.v2+json": {
       "row_count": 8,
       "column_count": 10,
       "columns": [
        {
         "name": "Elevation",
         "dtype": "float64",
         "stats": {
          "unique_count": 7,
          "nan_count": 0,
          "min": "0.0",
          "max": "406708.0",
          "histogram": [
           {
            "bin_start": 0,
            "bin_end": 40670.8,
            "count": 7
           },
           {
            "bin_start": 40670.8,
            "bin_end": 81341.6,
            "count": 0
           },
           {
            "bin_start": 81341.6,
            "bin_end": 122012.40000000001,
            "count": 0
           },
           {
            "bin_start": 122012.40000000001,
            "bin_end": 162683.2,
            "count": 0
           },
           {
            "bin_start": 162683.2,
            "bin_end": 203354,
            "count": 0
           },
           {
            "bin_start": 203354,
            "bin_end": 244024.80000000002,
            "count": 0
           },
           {
            "bin_start": 244024.80000000002,
            "bin_end": 284695.60000000003,
            "count": 0
           },
           {
            "bin_start": 284695.60000000003,
            "bin_end": 325366.4,
            "count": 0
           },
           {
            "bin_start": 325366.4,
            "bin_end": 366037.2,
            "count": 0
           },
           {
            "bin_start": 366037.2,
            "bin_end": 406708,
            "count": 1
           }
          ]
         }
        },
        {
         "name": "Aspect",
         "dtype": "float64",
         "stats": {
          "unique_count": 7,
          "nan_count": 0,
          "min": "0.0",
          "max": "406708.0",
          "histogram": [
           {
            "bin_start": 0,
            "bin_end": 40670.8,
            "count": 7
           },
           {
            "bin_start": 40670.8,
            "bin_end": 81341.6,
            "count": 0
           },
           {
            "bin_start": 81341.6,
            "bin_end": 122012.40000000001,
            "count": 0
           },
           {
            "bin_start": 122012.40000000001,
            "bin_end": 162683.2,
            "count": 0
           },
           {
            "bin_start": 162683.2,
            "bin_end": 203354,
            "count": 0
           },
           {
            "bin_start": 203354,
            "bin_end": 244024.80000000002,
            "count": 0
           },
           {
            "bin_start": 244024.80000000002,
            "bin_end": 284695.60000000003,
            "count": 0
           },
           {
            "bin_start": 284695.60000000003,
            "bin_end": 325366.4,
            "count": 0
           },
           {
            "bin_start": 325366.4,
            "bin_end": 366037.2,
            "count": 0
           },
           {
            "bin_start": 366037.2,
            "bin_end": 406708,
            "count": 1
           }
          ]
         }
        },
        {
         "name": "Slope",
         "dtype": "float64",
         "stats": {
          "unique_count": 6,
          "nan_count": 0,
          "min": "0.0",
          "max": "406708.0",
          "histogram": [
           {
            "bin_start": 0,
            "bin_end": 40670.8,
            "count": 7
           },
           {
            "bin_start": 40670.8,
            "bin_end": 81341.6,
            "count": 0
           },
           {
            "bin_start": 81341.6,
            "bin_end": 122012.40000000001,
            "count": 0
           },
           {
            "bin_start": 122012.40000000001,
            "bin_end": 162683.2,
            "count": 0
           },
           {
            "bin_start": 162683.2,
            "bin_end": 203354,
            "count": 0
           },
           {
            "bin_start": 203354,
            "bin_end": 244024.80000000002,
            "count": 0
           },
           {
            "bin_start": 244024.80000000002,
            "bin_end": 284695.60000000003,
            "count": 0
           },
           {
            "bin_start": 284695.60000000003,
            "bin_end": 325366.4,
            "count": 0
           },
           {
            "bin_start": 325366.4,
            "bin_end": 366037.2,
            "count": 0
           },
           {
            "bin_start": 366037.2,
            "bin_end": 406708,
            "count": 1
           }
          ]
         }
        },
        {
         "name": "Hillshade_9am",
         "dtype": "float64",
         "stats": {
          "unique_count": 5,
          "nan_count": 0,
          "min": "0.0",
          "max": "406708.0",
          "histogram": [
           {
            "bin_start": 0,
            "bin_end": 40670.8,
            "count": 7
           },
           {
            "bin_start": 40670.8,
            "bin_end": 81341.6,
            "count": 0
           },
           {
            "bin_start": 81341.6,
            "bin_end": 122012.40000000001,
            "count": 0
           },
           {
            "bin_start": 122012.40000000001,
            "bin_end": 162683.2,
            "count": 0
           },
           {
            "bin_start": 162683.2,
            "bin_end": 203354,
            "count": 0
           },
           {
            "bin_start": 203354,
            "bin_end": 244024.80000000002,
            "count": 0
           },
           {
            "bin_start": 244024.80000000002,
            "bin_end": 284695.60000000003,
            "count": 0
           },
           {
            "bin_start": 284695.60000000003,
            "bin_end": 325366.4,
            "count": 0
           },
           {
            "bin_start": 325366.4,
            "bin_end": 366037.2,
            "count": 0
           },
           {
            "bin_start": 366037.2,
            "bin_end": 406708,
            "count": 1
           }
          ]
         }
        },
        {
         "name": "Hillshade_Noon",
         "dtype": "float64",
         "stats": {
          "unique_count": 5,
          "nan_count": 0,
          "min": "0.0",
          "max": "406708.0",
          "histogram": [
           {
            "bin_start": 0,
            "bin_end": 40670.8,
            "count": 7
           },
           {
            "bin_start": 40670.8,
            "bin_end": 81341.6,
            "count": 0
           },
           {
            "bin_start": 81341.6,
            "bin_end": 122012.40000000001,
            "count": 0
           },
           {
            "bin_start": 122012.40000000001,
            "bin_end": 162683.2,
            "count": 0
           },
           {
            "bin_start": 162683.2,
            "bin_end": 203354,
            "count": 0
           },
           {
            "bin_start": 203354,
            "bin_end": 244024.80000000002,
            "count": 0
           },
           {
            "bin_start": 244024.80000000002,
            "bin_end": 284695.60000000003,
            "count": 0
           },
           {
            "bin_start": 284695.60000000003,
            "bin_end": 325366.4,
            "count": 0
           },
           {
            "bin_start": 325366.4,
            "bin_end": 366037.2,
            "count": 0
           },
           {
            "bin_start": 366037.2,
            "bin_end": 406708,
            "count": 1
           }
          ]
         }
        },
        {
         "name": "Horizontal_Distance_To_Fire_Points",
         "dtype": "float64",
         "stats": {
          "unique_count": 6,
          "nan_count": 0,
          "min": "0.0",
          "max": "406708.0",
          "histogram": [
           {
            "bin_start": 0,
            "bin_end": 40670.8,
            "count": 7
           },
           {
            "bin_start": 40670.8,
            "bin_end": 81341.6,
            "count": 0
           },
           {
            "bin_start": 81341.6,
            "bin_end": 122012.40000000001,
            "count": 0
           },
           {
            "bin_start": 122012.40000000001,
            "bin_end": 162683.2,
            "count": 0
           },
           {
            "bin_start": 162683.2,
            "bin_end": 203354,
            "count": 0
           },
           {
            "bin_start": 203354,
            "bin_end": 244024.80000000002,
            "count": 0
           },
           {
            "bin_start": 244024.80000000002,
            "bin_end": 284695.60000000003,
            "count": 0
           },
           {
            "bin_start": 284695.60000000003,
            "bin_end": 325366.4,
            "count": 0
           },
           {
            "bin_start": 325366.4,
            "bin_end": 366037.2,
            "count": 0
           },
           {
            "bin_start": 366037.2,
            "bin_end": 406708,
            "count": 1
           }
          ]
         }
        },
        {
         "name": "Soil_Type",
         "dtype": "float64",
         "stats": {
          "unique_count": 8,
          "nan_count": 0,
          "min": "0.0",
          "max": "406708.0",
          "histogram": [
           {
            "bin_start": 0,
            "bin_end": 40670.8,
            "count": 7
           },
           {
            "bin_start": 40670.8,
            "bin_end": 81341.6,
            "count": 0
           },
           {
            "bin_start": 81341.6,
            "bin_end": 122012.40000000001,
            "count": 0
           },
           {
            "bin_start": 122012.40000000001,
            "bin_end": 162683.2,
            "count": 0
           },
           {
            "bin_start": 162683.2,
            "bin_end": 203354,
            "count": 0
           },
           {
            "bin_start": 203354,
            "bin_end": 244024.80000000002,
            "count": 0
           },
           {
            "bin_start": 244024.80000000002,
            "bin_end": 284695.60000000003,
            "count": 0
           },
           {
            "bin_start": 284695.60000000003,
            "bin_end": 325366.4,
            "count": 0
           },
           {
            "bin_start": 325366.4,
            "bin_end": 366037.2,
            "count": 0
           },
           {
            "bin_start": 366037.2,
            "bin_end": 406708,
            "count": 1
           }
          ]
         }
        },
        {
         "name": "Wilderness",
         "dtype": "float64",
         "stats": {
          "unique_count": 7,
          "nan_count": 0,
          "min": "0.0",
          "max": "406708.0",
          "histogram": [
           {
            "bin_start": 0,
            "bin_end": 40670.8,
            "count": 7
           },
           {
            "bin_start": 40670.8,
            "bin_end": 81341.6,
            "count": 0
           },
           {
            "bin_start": 81341.6,
            "bin_end": 122012.40000000001,
            "count": 0
           },
           {
            "bin_start": 122012.40000000001,
            "bin_end": 162683.2,
            "count": 0
           },
           {
            "bin_start": 162683.2,
            "bin_end": 203354,
            "count": 0
           },
           {
            "bin_start": 203354,
            "bin_end": 244024.80000000002,
            "count": 0
           },
           {
            "bin_start": 244024.80000000002,
            "bin_end": 284695.60000000003,
            "count": 0
           },
           {
            "bin_start": 284695.60000000003,
            "bin_end": 325366.4,
            "count": 0
           },
           {
            "bin_start": 325366.4,
            "bin_end": 366037.2,
            "count": 0
           },
           {
            "bin_start": 366037.2,
            "bin_end": 406708,
            "count": 1
           }
          ]
         }
        },
        {
         "name": "target",
         "dtype": "float64",
         "stats": {
          "unique_count": 6,
          "nan_count": 0,
          "min": "1.0",
          "max": "406708.0",
          "histogram": [
           {
            "bin_start": 1,
            "bin_end": 40671.7,
            "count": 7
           },
           {
            "bin_start": 40671.7,
            "bin_end": 81342.4,
            "count": 0
           },
           {
            "bin_start": 81342.4,
            "bin_end": 122013.09999999999,
            "count": 0
           },
           {
            "bin_start": 122013.09999999999,
            "bin_end": 162683.8,
            "count": 0
           },
           {
            "bin_start": 162683.8,
            "bin_end": 203354.5,
            "count": 0
           },
           {
            "bin_start": 203354.5,
            "bin_end": 244025.19999999998,
            "count": 0
           },
           {
            "bin_start": 244025.19999999998,
            "bin_end": 284695.89999999997,
            "count": 0
           },
           {
            "bin_start": 284695.89999999997,
            "bin_end": 325366.6,
            "count": 0
           },
           {
            "bin_start": 325366.6,
            "bin_end": 366037.3,
            "count": 0
           },
           {
            "bin_start": 366037.3,
            "bin_end": 406708,
            "count": 1
           }
          ]
         }
        },
        {
         "name": "Distance_To_Hydrology",
         "dtype": "float64",
         "stats": {
          "unique_count": 8,
          "nan_count": 0,
          "min": "0.0",
          "max": "406708.0",
          "histogram": [
           {
            "bin_start": 0,
            "bin_end": 40670.8,
            "count": 7
           },
           {
            "bin_start": 40670.8,
            "bin_end": 81341.6,
            "count": 0
           },
           {
            "bin_start": 81341.6,
            "bin_end": 122012.40000000001,
            "count": 0
           },
           {
            "bin_start": 122012.40000000001,
            "bin_end": 162683.2,
            "count": 0
           },
           {
            "bin_start": 162683.2,
            "bin_end": 203354,
            "count": 0
           },
           {
            "bin_start": 203354,
            "bin_end": 244024.80000000002,
            "count": 0
           },
           {
            "bin_start": 244024.80000000002,
            "bin_end": 284695.60000000003,
            "count": 0
           },
           {
            "bin_start": 284695.60000000003,
            "bin_end": 325366.4,
            "count": 0
           },
           {
            "bin_start": 325366.4,
            "bin_end": 366037.2,
            "count": 0
           },
           {
            "bin_start": 366037.2,
            "bin_end": 406708,
            "count": 1
           }
          ]
         }
        },
        {
         "name": "_deepnote_index_column",
         "dtype": "object"
        }
       ],
       "rows_top": [
        {
         "Elevation": 406708,
         "Aspect": 406708,
         "Slope": 406708,
         "Hillshade_9am": 406708,
         "Hillshade_Noon": 406708,
         "Horizontal_Distance_To_Fire_Points": 406708,
         "Soil_Type": 406708,
         "Wilderness": 406708,
         "target": 406708,
         "Distance_To_Hydrology": 406708,
         "_deepnote_index_column": "count"
        },
        {
         "Elevation": 1.7007877887821239,
         "Aspect": 1.2431351239710062,
         "Slope": 0.3442420606430166,
         "Hillshade_9am": 0.9901378876245365,
         "Hillshade_Noon": 0.9992943340185096,
         "Horizontal_Distance_To_Fire_Points": 0.34818100455363554,
         "Soil_Type": 23.358461107231722,
         "Wilderness": 1.114679327674892,
         "target": 2.051471817618537,
         "Distance_To_Hydrology": 1.6604955641199781,
         "_deepnote_index_column": "mean"
        },
        {
         "Elevation": 0.6069300812612051,
         "Aspect": 1.1855294475775755,
         "Slope": 0.5180161312655812,
         "Hillshade_9am": 0.0988173827041827,
         "Hillshade_Noon": 0.026555032495945534,
         "Horizontal_Distance_To_Fire_Points": 0.5813519140660659,
         "Soil_Type": 9.483621917901102,
         "Wilderness": 1.061300792852586,
         "target": 1.3965066160537023,
         "Distance_To_Hydrology": 0.911737211383501,
         "_deepnote_index_column": "std"
        },
        {
         "Elevation": 0,
         "Aspect": 0,
         "Slope": 0,
         "Hillshade_9am": 0,
         "Hillshade_Noon": 0,
         "Horizontal_Distance_To_Fire_Points": 0,
         "Soil_Type": 0,
         "Wilderness": 0,
         "target": 1,
         "Distance_To_Hydrology": 0,
         "_deepnote_index_column": "min"
        },
        {
         "Elevation": 1,
         "Aspect": 0,
         "Slope": 0,
         "Hillshade_9am": 1,
         "Hillshade_Noon": 1,
         "Horizontal_Distance_To_Fire_Points": 0,
         "Soil_Type": 19,
         "Wilderness": 0,
         "target": 1,
         "Distance_To_Hydrology": 1,
         "_deepnote_index_column": "25%"
        },
        {
         "Elevation": 2,
         "Aspect": 1,
         "Slope": 0,
         "Hillshade_9am": 1,
         "Hillshade_Noon": 1,
         "Horizontal_Distance_To_Fire_Points": 0,
         "Soil_Type": 28,
         "Wilderness": 1,
         "target": 2,
         "Distance_To_Hydrology": 1.4142135623730951,
         "_deepnote_index_column": "50%"
        },
        {
         "Elevation": 2,
         "Aspect": 2,
         "Slope": 1,
         "Hillshade_9am": 1,
         "Hillshade_Noon": 1,
         "Horizontal_Distance_To_Fire_Points": 1,
         "Soil_Type": 30,
         "Wilderness": 2,
         "target": 2,
         "Distance_To_Hydrology": 2.23606797749979,
         "_deepnote_index_column": "75%"
        },
        {
         "Elevation": 3,
         "Aspect": 3,
         "Slope": 3,
         "Hillshade_9am": 1,
         "Hillshade_Noon": 1,
         "Horizontal_Distance_To_Fire_Points": 2,
         "Soil_Type": 39,
         "Wilderness": 3,
         "target": 7,
         "Distance_To_Hydrology": 7.211102550927978,
         "_deepnote_index_column": "max"
        }
       ],
       "rows_bottom": null
      },
      "text/plain": "           Elevation         Aspect          Slope  Hillshade_9am  \\\ncount  406708.000000  406708.000000  406708.000000  406708.000000   \nmean        1.700788       1.243135       0.344242       0.990138   \nstd         0.606930       1.185529       0.518016       0.098817   \nmin         0.000000       0.000000       0.000000       0.000000   \n25%         1.000000       0.000000       0.000000       1.000000   \n50%         2.000000       1.000000       0.000000       1.000000   \n75%         2.000000       2.000000       1.000000       1.000000   \nmax         3.000000       3.000000       3.000000       1.000000   \n\n       Hillshade_Noon  Horizontal_Distance_To_Fire_Points      Soil_Type  \\\ncount   406708.000000                       406708.000000  406708.000000   \nmean         0.999294                            0.348181      23.358461   \nstd          0.026555                            0.581352       9.483622   \nmin          0.000000                            0.000000       0.000000   \n25%          1.000000                            0.000000      19.000000   \n50%          1.000000                            0.000000      28.000000   \n75%          1.000000                            1.000000      30.000000   \nmax          1.000000                            2.000000      39.000000   \n\n          Wilderness         target  Distance_To_Hydrology  \ncount  406708.000000  406708.000000          406708.000000  \nmean        1.114679       2.051472               1.660496  \nstd         1.061301       1.396507               0.911737  \nmin         0.000000       1.000000               0.000000  \n25%         0.000000       1.000000               1.000000  \n50%         1.000000       2.000000               1.414214  \n75%         2.000000       2.000000               2.236068  \nmax         3.000000       7.000000               7.211103  ",
      "text/html": "<div>\n<style scoped>\n    .dataframe tbody tr th:only-of-type {\n        vertical-align: middle;\n    }\n\n    .dataframe tbody tr th {\n        vertical-align: top;\n    }\n\n    .dataframe thead th {\n        text-align: right;\n    }\n</style>\n<table border=\"1\" class=\"dataframe\">\n  <thead>\n    <tr style=\"text-align: right;\">\n      <th></th>\n      <th>Elevation</th>\n      <th>Aspect</th>\n      <th>Slope</th>\n      <th>Hillshade_9am</th>\n      <th>Hillshade_Noon</th>\n      <th>Horizontal_Distance_To_Fire_Points</th>\n      <th>Soil_Type</th>\n      <th>Wilderness</th>\n      <th>target</th>\n      <th>Distance_To_Hydrology</th>\n    </tr>\n  </thead>\n  <tbody>\n    <tr>\n      <th>count</th>\n      <td>406708.000000</td>\n      <td>406708.000000</td>\n      <td>406708.000000</td>\n      <td>406708.000000</td>\n      <td>406708.000000</td>\n      <td>406708.000000</td>\n      <td>406708.000000</td>\n      <td>406708.000000</td>\n      <td>406708.000000</td>\n      <td>406708.000000</td>\n    </tr>\n    <tr>\n      <th>mean</th>\n      <td>1.700788</td>\n      <td>1.243135</td>\n      <td>0.344242</td>\n      <td>0.990138</td>\n      <td>0.999294</td>\n      <td>0.348181</td>\n      <td>23.358461</td>\n      <td>1.114679</td>\n      <td>2.051472</td>\n      <td>1.660496</td>\n    </tr>\n    <tr>\n      <th>std</th>\n      <td>0.606930</td>\n      <td>1.185529</td>\n      <td>0.518016</td>\n      <td>0.098817</td>\n      <td>0.026555</td>\n      <td>0.581352</td>\n      <td>9.483622</td>\n      <td>1.061301</td>\n      <td>1.396507</td>\n      <td>0.911737</td>\n    </tr>\n    <tr>\n      <th>min</th>\n      <td>0.000000</td>\n      <td>0.000000</td>\n      <td>0.000000</td>\n      <td>0.000000</td>\n      <td>0.000000</td>\n      <td>0.000000</td>\n      <td>0.000000</td>\n      <td>0.000000</td>\n      <td>1.000000</td>\n      <td>0.000000</td>\n    </tr>\n    <tr>\n      <th>25%</th>\n      <td>1.000000</td>\n      <td>0.000000</td>\n      <td>0.000000</td>\n      <td>1.000000</td>\n      <td>1.000000</td>\n      <td>0.000000</td>\n      <td>19.000000</td>\n      <td>0.000000</td>\n      <td>1.000000</td>\n      <td>1.000000</td>\n    </tr>\n    <tr>\n      <th>50%</th>\n      <td>2.000000</td>\n      <td>1.000000</td>\n      <td>0.000000</td>\n      <td>1.000000</td>\n      <td>1.000000</td>\n      <td>0.000000</td>\n      <td>28.000000</td>\n      <td>1.000000</td>\n      <td>2.000000</td>\n      <td>1.414214</td>\n    </tr>\n    <tr>\n      <th>75%</th>\n      <td>2.000000</td>\n      <td>2.000000</td>\n      <td>1.000000</td>\n      <td>1.000000</td>\n      <td>1.000000</td>\n      <td>1.000000</td>\n      <td>30.000000</td>\n      <td>2.000000</td>\n      <td>2.000000</td>\n      <td>2.236068</td>\n    </tr>\n    <tr>\n      <th>max</th>\n      <td>3.000000</td>\n      <td>3.000000</td>\n      <td>3.000000</td>\n      <td>1.000000</td>\n      <td>1.000000</td>\n      <td>2.000000</td>\n      <td>39.000000</td>\n      <td>3.000000</td>\n      <td>7.000000</td>\n      <td>7.211103</td>\n    </tr>\n  </tbody>\n</table>\n</div>"
     },
     "metadata": {}
    }
   ],
   "execution_count": null
  },
  {
   "cell_type": "code",
   "metadata": {
    "tags": [],
    "cell_id": "00011-203d0e72-4868-422e-a232-0709944377ee",
    "deepnote_to_be_reexecuted": false,
    "source_hash": "21a6ca29",
    "execution_start": 1638100244410,
    "execution_millis": 1,
    "deepnote_cell_type": "code"
   },
   "source": "X = df.drop(columns=['target'])\ny = df['target'].copy()\ndf = df.drop(columns=['target'])\nXdf = pd.DataFrame(X,columns=df.columns)",
   "outputs": [],
   "execution_count": null
  },
  {
   "cell_type": "code",
   "metadata": {
    "tags": [],
    "cell_id": "00017-ce5295d7-5c8a-4cc7-834f-67c0dc874347",
    "deepnote_to_be_reexecuted": false,
    "source_hash": "c4f5e404",
    "execution_start": 1638100244412,
    "execution_millis": 171,
    "deepnote_cell_type": "code"
   },
   "source": "rus = RandomUnderSampler() \nX, y = rus.fit_resample(X, y)",
   "outputs": [],
   "execution_count": null
  },
  {
   "cell_type": "markdown",
   "source": "## Scaling",
   "metadata": {
    "tags": [],
    "is_collapsed": false,
    "cell_id": "00014-7abdad5c-a6a5-4ef9-aaac-71605e52199a",
    "deepnote_cell_type": "text-cell-h2"
   }
  },
  {
   "cell_type": "code",
   "metadata": {
    "tags": [],
    "cell_id": "00015-284cb1ec-8d06-465c-aa6d-fa5684ff8080",
    "deepnote_to_be_reexecuted": false,
    "source_hash": "47910e94",
    "execution_start": 1638100244635,
    "execution_millis": 0,
    "deepnote_cell_type": "code"
   },
   "source": "scaler = MinMaxScaler()\nscaler.fit(X)\nX=scaler.transform(X)",
   "outputs": [],
   "execution_count": null
  },
  {
   "cell_type": "markdown",
   "source": "# Question 1",
   "metadata": {
    "tags": [],
    "is_collapsed": false,
    "cell_id": "00001-a64f76d2-9ce5-490e-849e-96cf38ce9362",
    "deepnote_cell_type": "text-cell-h1"
   }
  },
  {
   "cell_type": "markdown",
   "source": "## Part  1",
   "metadata": {
    "tags": [],
    "is_collapsed": false,
    "cell_id": "00001-8423fcb7-1bab-4e7c-8636-68a960c7075b",
    "deepnote_cell_type": "text-cell-h2"
   }
  },
  {
   "cell_type": "markdown",
   "source": "### K Means",
   "metadata": {
    "tags": [],
    "is_collapsed": false,
    "cell_id": "00015-efc83a2c-09e7-4b3f-a018-68fc46258443",
    "deepnote_cell_type": "text-cell-h3"
   }
  },
  {
   "cell_type": "code",
   "metadata": {
    "tags": [],
    "cell_id": "00015-95b4c994-24e7-4db9-bc86-7b4b6513b6af",
    "deepnote_to_be_reexecuted": false,
    "source_hash": "768a5cd2",
    "execution_start": 1638100244636,
    "execution_millis": 561,
    "deepnote_output_heights": [
     21.1875
    ],
    "deepnote_cell_type": "code"
   },
   "source": "kmeans = KMeans(n_clusters=7) \ny_kmeans = kmeans.fit(X)\nlabels_km = kmeans.labels_",
   "outputs": [],
   "execution_count": null
  },
  {
   "cell_type": "code",
   "metadata": {
    "tags": [],
    "cell_id": "00016-2da409e3-865e-45cf-9d93-e871ce813e8d",
    "deepnote_to_be_reexecuted": false,
    "source_hash": "a224246f",
    "execution_start": 1638100245203,
    "execution_millis": 16,
    "deepnote_output_heights": [
     404.9375
    ],
    "deepnote_cell_type": "code"
   },
   "source": "#centroids\ncluster_centers = kmeans.cluster_centers_ \ncluster_centers",
   "outputs": [
    {
     "output_type": "execute_result",
     "execution_count": 13,
     "data": {
      "text/plain": "array([[ 1.84590690e-01,  8.88576779e-01,  2.34082397e-01,\n         9.42616372e-01,  1.00000000e+00,  8.82825040e-03,\n         2.02689632e-01,  8.87506688e-01,  2.03386023e-01],\n       [ 5.47660648e-01,  1.68316832e-01,  1.50067948e-01,\n         1.00000000e+00,  9.96505533e-01, -1.15185639e-15,\n         6.93562116e-01,  9.70685304e-03,  2.10885339e-01],\n       [ 6.96285387e-01,  9.03943708e-01,  9.70381280e-02,\n         9.90181640e-01,  9.99509082e-01,  1.14383898e-01,\n         7.66801354e-01,  4.94190803e-01,  2.69637306e-01],\n       [ 3.63073749e-01,  1.66408802e-01,  1.27557160e-01,\n         1.00000000e+00,  1.00000000e+00,  3.55853533e-02,\n         2.00023803e-01,  7.15660994e-01,  2.05286355e-01],\n       [ 7.18482029e-01,  1.38295931e-01,  1.19503740e-01,\n         1.00000000e+00,  1.00000000e+00,  1.13847838e-01,\n         8.36343733e-01,  6.37839810e-01,  2.70838016e-01],\n       [ 6.16406701e-01,  2.44945118e-01,  8.23223570e-02,\n         9.99133449e-01,  1.00000000e+00,  6.23916811e-01,\n         6.84553171e-01,  1.84864240e-02,  2.02663597e-01],\n       [ 3.58750908e-02,  1.74727669e-01,  2.83660131e-01,\n         1.00000000e+00,  9.98257081e-01, -1.22124533e-15,\n         1.34495280e-01,  9.98547567e-01,  1.91255498e-01]])"
     },
     "metadata": {}
    }
   ],
   "execution_count": null
  },
  {
   "cell_type": "markdown",
   "source": "### Birch Clustering",
   "metadata": {
    "tags": [],
    "is_collapsed": false,
    "cell_id": "00033-83fa6aa3-f6df-48f5-ae65-5d6b5f86fb06",
    "deepnote_cell_type": "text-cell-h3"
   }
  },
  {
   "cell_type": "code",
   "metadata": {
    "tags": [],
    "cell_id": "00034-db1706e9-f741-454f-a262-1ecc5a4af9e9",
    "deepnote_to_be_reexecuted": false,
    "source_hash": "43098d07",
    "execution_start": 1638100245221,
    "execution_millis": 864,
    "deepnote_cell_type": "code"
   },
   "source": "model_br = Birch(n_clusters=7).fit(X)\ny_predict_br = model_br.fit_predict(X)\nlabels_br = model_br.labels_",
   "outputs": [],
   "execution_count": null
  },
  {
   "cell_type": "code",
   "metadata": {
    "tags": [],
    "cell_id": "00029-af13db61-e004-4835-8d4d-62cbea65be4b",
    "deepnote_to_be_reexecuted": false,
    "source_hash": "7f03dc1e",
    "execution_start": 1638100246096,
    "execution_millis": 17,
    "deepnote_cell_type": "code"
   },
   "source": "clf_br = NearestCentroid()\nclf_br.fit(X, y_predict_br)\nprint(clf_br.centroids_)",
   "outputs": [
    {
     "name": "stdout",
     "text": "[[0.24720975 0.46341672 0.19593757 1.         0.99948685 0.01205901\n  0.25761747 0.83946975 0.20469488]\n [0.57647776 0.31007516 0.11974406 1.         0.99817185 0.23826935\n  0.68885451 0.01401584 0.20119827]\n [0.89767932 0.89820675 0.07700422 1.         1.         0.21281646\n  0.93443687 0.62552743 0.36108859]\n [0.76784215 0.15491184 0.12111671 1.         1.         0.15018892\n  0.85845766 0.6125105  0.29145033]\n [0.08277405 0.9753915  0.54362416 0.         1.         0.\n  0.24987093 0.93512304 0.21722573]\n [0.66666667 1.         0.66666667 0.         0.         0.5\n  0.71794872 0.         0.13867505]\n [0.73809524 0.97619048 0.52380952 0.         1.         0.17857143\n  0.83699634 0.28571429 0.31357456]]\n",
     "output_type": "stream"
    }
   ],
   "execution_count": null
  },
  {
   "cell_type": "markdown",
   "source": "### Agglomerative Clustering",
   "metadata": {
    "tags": [],
    "is_collapsed": true,
    "cell_id": "00021-6620b63d-1287-4722-95ae-22e6964295cd",
    "deepnote_cell_type": "text-cell-h3"
   }
  },
  {
   "cell_type": "code",
   "metadata": {
    "tags": [],
    "cell_id": "00022-43d292b6-7478-4776-8315-8cc7a8b58eff",
    "deepnote_to_be_reexecuted": false,
    "source_hash": "47868100",
    "execution_start": 1638100246116,
    "execution_millis": 6695,
    "deepnote_output_heights": [
     40.375
    ],
    "deepnote_cell_type": "code"
   },
   "source": "model_ac = AgglomerativeClustering(n_clusters=7, affinity='euclidean', linkage='ward')\ny_predict_ac = model_ac.fit_predict(X)\nlabels_ac = model_ac.labels_",
   "outputs": [],
   "execution_count": null
  },
  {
   "cell_type": "code",
   "metadata": {
    "tags": [],
    "cell_id": "00029-0ddfb75b-ad59-433d-9172-ceeebcaf9307",
    "deepnote_to_be_reexecuted": false,
    "source_hash": "197b40de",
    "execution_start": 1638100252819,
    "execution_millis": 7,
    "deepnote_cell_type": "code"
   },
   "source": "clf_ac = NearestCentroid()\nclf_ac.fit(X, y_predict_ac)\nprint(clf_ac.centroids_)",
   "outputs": [
    {
     "name": "stdout",
     "text": "[[0.1704162  0.97000375 0.21991001 0.90776153 0.99943757 0.00168729\n  0.22658706 0.90438695 0.20234008]\n [0.0711202  0.22937969 0.24801182 1.         1.         0.\n  0.13489941 1.         0.19739042]\n [0.68500363 0.93990559 0.1040305  1.         1.         0.16285403\n  0.74741635 0.41394336 0.2608123 ]\n [0.61374637 0.19619232 0.07776702 1.         1.         0.60648596\n  0.68615186 0.00709906 0.19963133]\n [0.71216456 0.22435635 0.11006675 1.         1.         0.09521864\n  0.80931124 0.61163329 0.27413963]\n [0.36498973 0.27344285 0.1866872  1.         0.99486653 0.04645791\n  0.19798084 0.66478439 0.20135995]\n [0.51986532 0.13198653 0.15308642 1.         1.         0.\n  0.69134076 0.         0.19987352]]\n",
     "output_type": "stream"
    }
   ],
   "execution_count": null
  },
  {
   "cell_type": "markdown",
   "source": "### Gaussian Mixture Model",
   "metadata": {
    "tags": [],
    "is_collapsed": false,
    "cell_id": "00033-2fcaf8b0-8334-46ff-b4f6-408248f7ca2a",
    "deepnote_cell_type": "text-cell-h3"
   }
  },
  {
   "cell_type": "code",
   "metadata": {
    "tags": [],
    "cell_id": "00037-ae8b3ae5-2dd2-48b1-8ad3-5b7c8ddc6483",
    "deepnote_to_be_reexecuted": false,
    "source_hash": "3d447a7",
    "execution_start": 1638100252845,
    "execution_millis": 2169,
    "deepnote_cell_type": "code"
   },
   "source": "model_gm = GaussianMixture(n_components=7).fit(X)\ny_predict_gm = model_gm.fit_predict(X)\nlabels_gm = model_gm.predict(X)\n",
   "outputs": [],
   "execution_count": null
  },
  {
   "cell_type": "code",
   "metadata": {
    "tags": [],
    "cell_id": "00038-c81c5e40-0ff6-4e79-a12e-68a62f1f35d5",
    "deepnote_to_be_reexecuted": false,
    "source_hash": "d836e05e",
    "execution_start": 1638100255023,
    "execution_millis": 16,
    "deepnote_cell_type": "code"
   },
   "source": "clf_gm = NearestCentroid()\nclf_gm.fit(X, y_predict_gm)\nprint(clf_gm.centroids_)",
   "outputs": [
    {
     "name": "stdout",
     "text": "[[0.84170854 0.40954774 0.11809045 1.         1.         0.12437186\n  0.83371988 0.33333333 0.26824569]\n [0.18399327 0.43229742 0.21638534 1.         1.         0.\n  0.17163995 0.88189515 0.20138005]\n [0.69444444 0.09722222 0.45833333 1.         0.58333333 0.\n  0.80128205 0.15277778 0.50145963]\n [0.66666667 1.         0.07971014 0.84782609 0.97826087 0.06521739\n  0.59476031 0.2826087  0.20391286]\n [0.57707676 0.3086225  0.11735016 1.         1.         0.23580442\n  0.69220254 0.         0.20381301]\n [0.11889597 0.97452229 0.54352442 0.         1.         0.\n  0.28107137 0.91295117 0.22772168]\n [0.67097485 0.45706843 0.1081054  1.         1.         0.13585813\n  0.77173553 0.66666667 0.26969981]]\n",
     "output_type": "stream"
    }
   ],
   "execution_count": null
  },
  {
   "cell_type": "markdown",
   "source": "## Part 2",
   "metadata": {
    "tags": [],
    "is_collapsed": true,
    "cell_id": "00002-279ca3a4-0dc9-45f4-874b-2bd546e327c9",
    "deepnote_cell_type": "text-cell-h2"
   }
  },
  {
   "cell_type": "markdown",
   "source": "### K Means",
   "metadata": {
    "tags": [],
    "is_collapsed": true,
    "cell_id": "00022-b6fe9c8f-cb5d-4350-8baa-a9ab8deb7512",
    "deepnote_cell_type": "text-cell-h3"
   }
  },
  {
   "cell_type": "code",
   "metadata": {
    "tags": [],
    "cell_id": "00028-bb5f8ce9-2853-4cd8-9994-90e1c5a2a6c0",
    "deepnote_to_be_reexecuted": false,
    "source_hash": "aa9e09c8",
    "execution_start": 1638100255043,
    "execution_millis": 1436,
    "deepnote_output_heights": [
     527
    ],
    "deepnote_cell_type": "code"
   },
   "source": "clusters=pd.DataFrame(X,columns=Xdf.columns)\nclusters['predicted_target']= y_kmeans.labels_\ngroup = clusters.groupby(\"predicted_target\")\ngroup = group.mean().reset_index()\ncluster_groups=pd.melt(group,id_vars=[\"predicted_target\"])\nfig = px.line_polar(cluster_groups, r=\"value\", theta=\"variable\", color=\"predicted_target\", line_close=True, title= \"Visualisation of k-means clustering\")\nfig.show()",
   "outputs": [
    {
     "data": {
      "text/html": "<html>\n<head><meta charset=\"utf-8\" /></head>\n<body>\n    <div>            <script src=\"https://cdnjs.cloudflare.com/ajax/libs/mathjax/2.7.5/MathJax.js?config=TeX-AMS-MML_SVG\"></script><script type=\"text/javascript\">if (window.MathJax) {MathJax.Hub.Config({SVG: {font: \"STIX-Web\"}});}</script>                <script type=\"text/javascript\">window.PlotlyConfig = {MathJaxConfig: 'local'};</script>\n        <script src=\"https://cdn.plot.ly/plotly-2.4.2.min.js\"></script>                <div id=\"44a1378e-3d2f-430b-9c27-f3bb6d4b3655\" class=\"plotly-graph-div\" style=\"height:525px; width:100%;\"></div>            <script type=\"text/javascript\">                                    window.PLOTLYENV=window.PLOTLYENV || {};                                    if (document.getElementById(\"44a1378e-3d2f-430b-9c27-f3bb6d4b3655\")) {                    Plotly.newPlot(                        \"44a1378e-3d2f-430b-9c27-f3bb6d4b3655\",                        [{\"hovertemplate\":\"predicted_target=0<br>value=%{r}<br>variable=%{theta}<extra></extra>\",\"legendgroup\":\"0\",\"line\":{\"color\":\"#636efa\",\"dash\":\"solid\"},\"marker\":{\"symbol\":\"circle\"},\"mode\":\"lines\",\"name\":\"0\",\"r\":[0.18459069020866414,0.8885767790262222,0.23408239700374364,0.9426163723916533,1.0,0.00882825040128411,0.20268963246491378,0.8875066880684952,0.20338602279684764,0.18459069020866414],\"showlegend\":true,\"subplot\":\"polar\",\"theta\":[\"Elevation\",\"Aspect\",\"Slope\",\"Hillshade_9am\",\"Hillshade_Noon\",\"Horizontal_Distance_To_Fire_Points\",\"Soil_Type\",\"Wilderness\",\"Distance_To_Hydrology\",\"Elevation\"],\"type\":\"scatterpolar\"},{\"hovertemplate\":\"predicted_target=1<br>value=%{r}<br>variable=%{theta}<extra></extra>\",\"legendgroup\":\"1\",\"line\":{\"color\":\"#EF553B\",\"dash\":\"solid\"},\"marker\":{\"symbol\":\"circle\"},\"mode\":\"lines\",\"name\":\"1\",\"r\":[0.5476606484177906,0.1683168316831689,0.15006794797126913,1.0,0.9965055329062318,0.0,0.6935621163926332,0.009706853038245006,0.2108853394812594,0.5476606484177906],\"showlegend\":true,\"subplot\":\"polar\",\"theta\":[\"Elevation\",\"Aspect\",\"Slope\",\"Hillshade_9am\",\"Hillshade_Noon\",\"Horizontal_Distance_To_Fire_Points\",\"Soil_Type\",\"Wilderness\",\"Distance_To_Hydrology\",\"Elevation\"],\"type\":\"scatterpolar\"},{\"hovertemplate\":\"predicted_target=2<br>value=%{r}<br>variable=%{theta}<extra></extra>\",\"legendgroup\":\"2\",\"line\":{\"color\":\"#00cc96\",\"dash\":\"solid\"},\"marker\":{\"symbol\":\"circle\"},\"mode\":\"lines\",\"name\":\"2\",\"r\":[0.6962853870070406,0.9039437080674259,0.0970381279659636,0.9901816396661758,0.9995090819833088,0.11438389788905252,0.7668013544302222,0.49419080346914496,0.2696373060862799,0.6962853870070406],\"showlegend\":true,\"subplot\":\"polar\",\"theta\":[\"Elevation\",\"Aspect\",\"Slope\",\"Hillshade_9am\",\"Hillshade_Noon\",\"Horizontal_Distance_To_Fire_Points\",\"Soil_Type\",\"Wilderness\",\"Distance_To_Hydrology\",\"Elevation\"],\"type\":\"scatterpolar\"},{\"hovertemplate\":\"predicted_target=3<br>value=%{r}<br>variable=%{theta}<extra></extra>\",\"legendgroup\":\"3\",\"line\":{\"color\":\"#ab63fa\",\"dash\":\"solid\"},\"marker\":{\"symbol\":\"circle\"},\"mode\":\"lines\",\"name\":\"3\",\"r\":[0.3630737493553461,0.1664088017878628,0.12755716004813603,1.0,1.0,0.03558535327488396,0.20002380291189178,0.715660993639339,0.20528635513726495,0.3630737493553461],\"showlegend\":true,\"subplot\":\"polar\",\"theta\":[\"Elevation\",\"Aspect\",\"Slope\",\"Hillshade_9am\",\"Hillshade_Noon\",\"Horizontal_Distance_To_Fire_Points\",\"Soil_Type\",\"Wilderness\",\"Distance_To_Hydrology\",\"Elevation\"],\"type\":\"scatterpolar\"},{\"hovertemplate\":\"predicted_target=4<br>value=%{r}<br>variable=%{theta}<extra></extra>\",\"legendgroup\":\"4\",\"line\":{\"color\":\"#FFA15A\",\"dash\":\"solid\"},\"marker\":{\"symbol\":\"circle\"},\"mode\":\"lines\",\"name\":\"4\",\"r\":[0.7184820288268611,0.1382959313993812,0.11950374019339592,1.0,1.0,0.11384783798576902,0.8363437328954516,0.6378398102536008,0.2708380157346058,0.7184820288268611],\"showlegend\":true,\"subplot\":\"polar\",\"theta\":[\"Elevation\",\"Aspect\",\"Slope\",\"Hillshade_9am\",\"Hillshade_Noon\",\"Horizontal_Distance_To_Fire_Points\",\"Soil_Type\",\"Wilderness\",\"Distance_To_Hydrology\",\"Elevation\"],\"type\":\"scatterpolar\"},{\"hovertemplate\":\"predicted_target=5<br>value=%{r}<br>variable=%{theta}<extra></extra>\",\"legendgroup\":\"5\",\"line\":{\"color\":\"#19d3f3\",\"dash\":\"solid\"},\"marker\":{\"symbol\":\"circle\"},\"mode\":\"lines\",\"name\":\"5\",\"r\":[0.6164067013287057,0.24494511842865432,0.08232235701906401,0.9991334488734835,1.0,0.6239168110918544,0.6845531706883504,0.018486424032351234,0.20266359731699782,0.6164067013287057],\"showlegend\":true,\"subplot\":\"polar\",\"theta\":[\"Elevation\",\"Aspect\",\"Slope\",\"Hillshade_9am\",\"Hillshade_Noon\",\"Horizontal_Distance_To_Fire_Points\",\"Soil_Type\",\"Wilderness\",\"Distance_To_Hydrology\",\"Elevation\"],\"type\":\"scatterpolar\"},{\"hovertemplate\":\"predicted_target=6<br>value=%{r}<br>variable=%{theta}<extra></extra>\",\"legendgroup\":\"6\",\"line\":{\"color\":\"#FF6692\",\"dash\":\"solid\"},\"marker\":{\"symbol\":\"circle\"},\"mode\":\"lines\",\"name\":\"6\",\"r\":[0.03587509077705152,0.17472766884531357,0.28366013071895535,1.0,0.9982570806100218,0.0,0.1344952795933181,0.9985475671750181,0.19125549832401278,0.03587509077705152],\"showlegend\":true,\"subplot\":\"polar\",\"theta\":[\"Elevation\",\"Aspect\",\"Slope\",\"Hillshade_9am\",\"Hillshade_Noon\",\"Horizontal_Distance_To_Fire_Points\",\"Soil_Type\",\"Wilderness\",\"Distance_To_Hydrology\",\"Elevation\"],\"type\":\"scatterpolar\"}],                        {\"legend\":{\"title\":{\"text\":\"predicted_target\"},\"tracegroupgap\":0},\"polar\":{\"angularaxis\":{\"direction\":\"clockwise\",\"rotation\":90},\"domain\":{\"x\":[0.0,1.0],\"y\":[0.0,1.0]}},\"template\":{\"data\":{\"bar\":[{\"error_x\":{\"color\":\"#2a3f5f\"},\"error_y\":{\"color\":\"#2a3f5f\"},\"marker\":{\"line\":{\"color\":\"#E5ECF6\",\"width\":0.5},\"pattern\":{\"fillmode\":\"overlay\",\"size\":10,\"solidity\":0.2}},\"type\":\"bar\"}],\"barpolar\":[{\"marker\":{\"line\":{\"color\":\"#E5ECF6\",\"width\":0.5},\"pattern\":{\"fillmode\":\"overlay\",\"size\":10,\"solidity\":0.2}},\"type\":\"barpolar\"}],\"carpet\":[{\"aaxis\":{\"endlinecolor\":\"#2a3f5f\",\"gridcolor\":\"white\",\"linecolor\":\"white\",\"minorgridcolor\":\"white\",\"startlinecolor\":\"#2a3f5f\"},\"baxis\":{\"endlinecolor\":\"#2a3f5f\",\"gridcolor\":\"white\",\"linecolor\":\"white\",\"minorgridcolor\":\"white\",\"startlinecolor\":\"#2a3f5f\"},\"type\":\"carpet\"}],\"choropleth\":[{\"colorbar\":{\"outlinewidth\":0,\"ticks\":\"\"},\"type\":\"choropleth\"}],\"contour\":[{\"colorbar\":{\"outlinewidth\":0,\"ticks\":\"\"},\"colorscale\":[[0.0,\"#0d0887\"],[0.1111111111111111,\"#46039f\"],[0.2222222222222222,\"#7201a8\"],[0.3333333333333333,\"#9c179e\"],[0.4444444444444444,\"#bd3786\"],[0.5555555555555556,\"#d8576b\"],[0.6666666666666666,\"#ed7953\"],[0.7777777777777778,\"#fb9f3a\"],[0.8888888888888888,\"#fdca26\"],[1.0,\"#f0f921\"]],\"type\":\"contour\"}],\"contourcarpet\":[{\"colorbar\":{\"outlinewidth\":0,\"ticks\":\"\"},\"type\":\"contourcarpet\"}],\"heatmap\":[{\"colorbar\":{\"outlinewidth\":0,\"ticks\":\"\"},\"colorscale\":[[0.0,\"#0d0887\"],[0.1111111111111111,\"#46039f\"],[0.2222222222222222,\"#7201a8\"],[0.3333333333333333,\"#9c179e\"],[0.4444444444444444,\"#bd3786\"],[0.5555555555555556,\"#d8576b\"],[0.6666666666666666,\"#ed7953\"],[0.7777777777777778,\"#fb9f3a\"],[0.8888888888888888,\"#fdca26\"],[1.0,\"#f0f921\"]],\"type\":\"heatmap\"}],\"heatmapgl\":[{\"colorbar\":{\"outlinewidth\":0,\"ticks\":\"\"},\"colorscale\":[[0.0,\"#0d0887\"],[0.1111111111111111,\"#46039f\"],[0.2222222222222222,\"#7201a8\"],[0.3333333333333333,\"#9c179e\"],[0.4444444444444444,\"#bd3786\"],[0.5555555555555556,\"#d8576b\"],[0.6666666666666666,\"#ed7953\"],[0.7777777777777778,\"#fb9f3a\"],[0.8888888888888888,\"#fdca26\"],[1.0,\"#f0f921\"]],\"type\":\"heatmapgl\"}],\"histogram\":[{\"marker\":{\"pattern\":{\"fillmode\":\"overlay\",\"size\":10,\"solidity\":0.2}},\"type\":\"histogram\"}],\"histogram2d\":[{\"colorbar\":{\"outlinewidth\":0,\"ticks\":\"\"},\"colorscale\":[[0.0,\"#0d0887\"],[0.1111111111111111,\"#46039f\"],[0.2222222222222222,\"#7201a8\"],[0.3333333333333333,\"#9c179e\"],[0.4444444444444444,\"#bd3786\"],[0.5555555555555556,\"#d8576b\"],[0.6666666666666666,\"#ed7953\"],[0.7777777777777778,\"#fb9f3a\"],[0.8888888888888888,\"#fdca26\"],[1.0,\"#f0f921\"]],\"type\":\"histogram2d\"}],\"histogram2dcontour\":[{\"colorbar\":{\"outlinewidth\":0,\"ticks\":\"\"},\"colorscale\":[[0.0,\"#0d0887\"],[0.1111111111111111,\"#46039f\"],[0.2222222222222222,\"#7201a8\"],[0.3333333333333333,\"#9c179e\"],[0.4444444444444444,\"#bd3786\"],[0.5555555555555556,\"#d8576b\"],[0.6666666666666666,\"#ed7953\"],[0.7777777777777778,\"#fb9f3a\"],[0.8888888888888888,\"#fdca26\"],[1.0,\"#f0f921\"]],\"type\":\"histogram2dcontour\"}],\"mesh3d\":[{\"colorbar\":{\"outlinewidth\":0,\"ticks\":\"\"},\"type\":\"mesh3d\"}],\"parcoords\":[{\"line\":{\"colorbar\":{\"outlinewidth\":0,\"ticks\":\"\"}},\"type\":\"parcoords\"}],\"pie\":[{\"automargin\":true,\"type\":\"pie\"}],\"scatter\":[{\"marker\":{\"colorbar\":{\"outlinewidth\":0,\"ticks\":\"\"}},\"type\":\"scatter\"}],\"scatter3d\":[{\"line\":{\"colorbar\":{\"outlinewidth\":0,\"ticks\":\"\"}},\"marker\":{\"colorbar\":{\"outlinewidth\":0,\"ticks\":\"\"}},\"type\":\"scatter3d\"}],\"scattercarpet\":[{\"marker\":{\"colorbar\":{\"outlinewidth\":0,\"ticks\":\"\"}},\"type\":\"scattercarpet\"}],\"scattergeo\":[{\"marker\":{\"colorbar\":{\"outlinewidth\":0,\"ticks\":\"\"}},\"type\":\"scattergeo\"}],\"scattergl\":[{\"marker\":{\"colorbar\":{\"outlinewidth\":0,\"ticks\":\"\"}},\"type\":\"scattergl\"}],\"scattermapbox\":[{\"marker\":{\"colorbar\":{\"outlinewidth\":0,\"ticks\":\"\"}},\"type\":\"scattermapbox\"}],\"scatterpolar\":[{\"marker\":{\"colorbar\":{\"outlinewidth\":0,\"ticks\":\"\"}},\"type\":\"scatterpolar\"}],\"scatterpolargl\":[{\"marker\":{\"colorbar\":{\"outlinewidth\":0,\"ticks\":\"\"}},\"type\":\"scatterpolargl\"}],\"scatterternary\":[{\"marker\":{\"colorbar\":{\"outlinewidth\":0,\"ticks\":\"\"}},\"type\":\"scatterternary\"}],\"surface\":[{\"colorbar\":{\"outlinewidth\":0,\"ticks\":\"\"},\"colorscale\":[[0.0,\"#0d0887\"],[0.1111111111111111,\"#46039f\"],[0.2222222222222222,\"#7201a8\"],[0.3333333333333333,\"#9c179e\"],[0.4444444444444444,\"#bd3786\"],[0.5555555555555556,\"#d8576b\"],[0.6666666666666666,\"#ed7953\"],[0.7777777777777778,\"#fb9f3a\"],[0.8888888888888888,\"#fdca26\"],[1.0,\"#f0f921\"]],\"type\":\"surface\"}],\"table\":[{\"cells\":{\"fill\":{\"color\":\"#EBF0F8\"},\"line\":{\"color\":\"white\"}},\"header\":{\"fill\":{\"color\":\"#C8D4E3\"},\"line\":{\"color\":\"white\"}},\"type\":\"table\"}]},\"layout\":{\"annotationdefaults\":{\"arrowcolor\":\"#2a3f5f\",\"arrowhead\":0,\"arrowwidth\":1},\"autotypenumbers\":\"strict\",\"coloraxis\":{\"colorbar\":{\"outlinewidth\":0,\"ticks\":\"\"}},\"colorscale\":{\"diverging\":[[0,\"#8e0152\"],[0.1,\"#c51b7d\"],[0.2,\"#de77ae\"],[0.3,\"#f1b6da\"],[0.4,\"#fde0ef\"],[0.5,\"#f7f7f7\"],[0.6,\"#e6f5d0\"],[0.7,\"#b8e186\"],[0.8,\"#7fbc41\"],[0.9,\"#4d9221\"],[1,\"#276419\"]],\"sequential\":[[0.0,\"#0d0887\"],[0.1111111111111111,\"#46039f\"],[0.2222222222222222,\"#7201a8\"],[0.3333333333333333,\"#9c179e\"],[0.4444444444444444,\"#bd3786\"],[0.5555555555555556,\"#d8576b\"],[0.6666666666666666,\"#ed7953\"],[0.7777777777777778,\"#fb9f3a\"],[0.8888888888888888,\"#fdca26\"],[1.0,\"#f0f921\"]],\"sequentialminus\":[[0.0,\"#0d0887\"],[0.1111111111111111,\"#46039f\"],[0.2222222222222222,\"#7201a8\"],[0.3333333333333333,\"#9c179e\"],[0.4444444444444444,\"#bd3786\"],[0.5555555555555556,\"#d8576b\"],[0.6666666666666666,\"#ed7953\"],[0.7777777777777778,\"#fb9f3a\"],[0.8888888888888888,\"#fdca26\"],[1.0,\"#f0f921\"]]},\"colorway\":[\"#636efa\",\"#EF553B\",\"#00cc96\",\"#ab63fa\",\"#FFA15A\",\"#19d3f3\",\"#FF6692\",\"#B6E880\",\"#FF97FF\",\"#FECB52\"],\"font\":{\"color\":\"#2a3f5f\"},\"geo\":{\"bgcolor\":\"white\",\"lakecolor\":\"white\",\"landcolor\":\"#E5ECF6\",\"showlakes\":true,\"showland\":true,\"subunitcolor\":\"white\"},\"hoverlabel\":{\"align\":\"left\"},\"hovermode\":\"closest\",\"mapbox\":{\"style\":\"light\"},\"paper_bgcolor\":\"white\",\"plot_bgcolor\":\"#E5ECF6\",\"polar\":{\"angularaxis\":{\"gridcolor\":\"white\",\"linecolor\":\"white\",\"ticks\":\"\"},\"bgcolor\":\"#E5ECF6\",\"radialaxis\":{\"gridcolor\":\"white\",\"linecolor\":\"white\",\"ticks\":\"\"}},\"scene\":{\"xaxis\":{\"backgroundcolor\":\"#E5ECF6\",\"gridcolor\":\"white\",\"gridwidth\":2,\"linecolor\":\"white\",\"showbackground\":true,\"ticks\":\"\",\"zerolinecolor\":\"white\"},\"yaxis\":{\"backgroundcolor\":\"#E5ECF6\",\"gridcolor\":\"white\",\"gridwidth\":2,\"linecolor\":\"white\",\"showbackground\":true,\"ticks\":\"\",\"zerolinecolor\":\"white\"},\"zaxis\":{\"backgroundcolor\":\"#E5ECF6\",\"gridcolor\":\"white\",\"gridwidth\":2,\"linecolor\":\"white\",\"showbackground\":true,\"ticks\":\"\",\"zerolinecolor\":\"white\"}},\"shapedefaults\":{\"line\":{\"color\":\"#2a3f5f\"}},\"ternary\":{\"aaxis\":{\"gridcolor\":\"white\",\"linecolor\":\"white\",\"ticks\":\"\"},\"baxis\":{\"gridcolor\":\"white\",\"linecolor\":\"white\",\"ticks\":\"\"},\"bgcolor\":\"#E5ECF6\",\"caxis\":{\"gridcolor\":\"white\",\"linecolor\":\"white\",\"ticks\":\"\"}},\"title\":{\"x\":0.05},\"xaxis\":{\"automargin\":true,\"gridcolor\":\"white\",\"linecolor\":\"white\",\"ticks\":\"\",\"title\":{\"standoff\":15},\"zerolinecolor\":\"white\",\"zerolinewidth\":2},\"yaxis\":{\"automargin\":true,\"gridcolor\":\"white\",\"linecolor\":\"white\",\"ticks\":\"\",\"title\":{\"standoff\":15},\"zerolinecolor\":\"white\",\"zerolinewidth\":2}}},\"title\":{\"text\":\"Visualisation of k-means clustering\"}},                        {\"responsive\": true}                    ).then(function(){\n                            \nvar gd = document.getElementById('44a1378e-3d2f-430b-9c27-f3bb6d4b3655');\nvar x = new MutationObserver(function (mutations, observer) {{\n        var display = window.getComputedStyle(gd).display;\n        if (!display || display === 'none') {{\n            console.log([gd, 'removed!']);\n            Plotly.purge(gd);\n            observer.disconnect();\n        }}\n}});\n\n// Listen for the removal of the full notebook cells\nvar notebookContainer = gd.closest('#notebook-container');\nif (notebookContainer) {{\n    x.observe(notebookContainer, {childList: true});\n}}\n\n// Listen for the clearing of the current output cell\nvar outputEl = gd.closest('.output');\nif (outputEl) {{\n    x.observe(outputEl, {childList: true});\n}}\n\n                        })                };                            </script>        </div>\n</body>\n</html>"
     },
     "metadata": {},
     "output_type": "display_data"
    }
   ],
   "execution_count": null
  },
  {
   "cell_type": "markdown",
   "source": "### Birch Clustering",
   "metadata": {
    "tags": [],
    "is_collapsed": false,
    "cell_id": "00023-a4841081-9e73-461a-bbaa-25bc7ab4cf19",
    "deepnote_cell_type": "text-cell-h3"
   }
  },
  {
   "cell_type": "code",
   "metadata": {
    "tags": [],
    "cell_id": "00021-0f945a16-41fa-4d1f-9d62-b54fa756dbed",
    "deepnote_to_be_reexecuted": false,
    "source_hash": "c4a888b4",
    "execution_start": 1638100256490,
    "execution_millis": 146,
    "deepnote_output_heights": [
     527
    ],
    "deepnote_cell_type": "code"
   },
   "source": "clusters_bc =pd.DataFrame(X,columns=Xdf.columns)\nclusters_bc['predicted_target']= labels_br\ngroup = clusters_bc.groupby(\"predicted_target\")\ngroup = group.mean().reset_index()\ncluster_groups=pd.melt(group,id_vars=[\"predicted_target\"])\nfig = px.line_polar(cluster_groups, r=\"value\", theta=\"variable\", color=\"predicted_target\", line_close=True, title= \"Visualisation of Birch Clustering\")\nfig.show()",
   "outputs": [
    {
     "data": {
      "text/html": "<html>\n<head><meta charset=\"utf-8\" /></head>\n<body>\n    <div>            <script src=\"https://cdnjs.cloudflare.com/ajax/libs/mathjax/2.7.5/MathJax.js?config=TeX-AMS-MML_SVG\"></script><script type=\"text/javascript\">if (window.MathJax) {MathJax.Hub.Config({SVG: {font: \"STIX-Web\"}});}</script>                <script type=\"text/javascript\">window.PlotlyConfig = {MathJaxConfig: 'local'};</script>\n        <script src=\"https://cdn.plot.ly/plotly-2.4.2.min.js\"></script>                <div id=\"454f5f96-dcb9-4212-bebd-48a955a34a2f\" class=\"plotly-graph-div\" style=\"height:525px; width:100%;\"></div>            <script type=\"text/javascript\">                                    window.PLOTLYENV=window.PLOTLYENV || {};                                    if (document.getElementById(\"454f5f96-dcb9-4212-bebd-48a955a34a2f\")) {                    Plotly.newPlot(                        \"454f5f96-dcb9-4212-bebd-48a955a34a2f\",                        [{\"hovertemplate\":\"predicted_target=0<br>value=%{r}<br>variable=%{theta}<extra></extra>\",\"legendgroup\":\"0\",\"line\":{\"color\":\"#636efa\",\"dash\":\"solid\"},\"marker\":{\"symbol\":\"circle\"},\"mode\":\"lines\",\"name\":\"0\",\"r\":[0.24720974983963057,0.46341672011973173,0.19593756681632704,1.0,0.9994868505452214,0.012059012187299552,0.25761747339683383,0.8394697455634712,0.20469487732791908,0.24720974983963057],\"showlegend\":true,\"subplot\":\"polar\",\"theta\":[\"Elevation\",\"Aspect\",\"Slope\",\"Hillshade_9am\",\"Hillshade_Noon\",\"Horizontal_Distance_To_Fire_Points\",\"Soil_Type\",\"Wilderness\",\"Distance_To_Hydrology\",\"Elevation\"],\"type\":\"scatterpolar\"},{\"hovertemplate\":\"predicted_target=1<br>value=%{r}<br>variable=%{theta}<extra></extra>\",\"legendgroup\":\"1\",\"line\":{\"color\":\"#EF553B\",\"dash\":\"solid\"},\"marker\":{\"symbol\":\"circle\"},\"mode\":\"lines\",\"name\":\"1\",\"r\":[0.5764777574649558,0.31007515742433983,0.11974405850091296,1.0,0.9981718464351006,0.23826934795856186,0.688854513351782,0.014015843997562477,0.20119826924826206,0.5764777574649558],\"showlegend\":true,\"subplot\":\"polar\",\"theta\":[\"Elevation\",\"Aspect\",\"Slope\",\"Hillshade_9am\",\"Hillshade_Noon\",\"Horizontal_Distance_To_Fire_Points\",\"Soil_Type\",\"Wilderness\",\"Distance_To_Hydrology\",\"Elevation\"],\"type\":\"scatterpolar\"},{\"hovertemplate\":\"predicted_target=2<br>value=%{r}<br>variable=%{theta}<extra></extra>\",\"legendgroup\":\"2\",\"line\":{\"color\":\"#00cc96\",\"dash\":\"solid\"},\"marker\":{\"symbol\":\"circle\"},\"mode\":\"lines\",\"name\":\"2\",\"r\":[0.8976793248945155,0.8982067510548534,0.07700421940928281,1.0,1.0,0.21281645569620253,0.9344368711457292,0.6255274261603406,0.3610885901864592,0.8976793248945155],\"showlegend\":true,\"subplot\":\"polar\",\"theta\":[\"Elevation\",\"Aspect\",\"Slope\",\"Hillshade_9am\",\"Hillshade_Noon\",\"Horizontal_Distance_To_Fire_Points\",\"Soil_Type\",\"Wilderness\",\"Distance_To_Hydrology\",\"Elevation\"],\"type\":\"scatterpolar\"},{\"hovertemplate\":\"predicted_target=3<br>value=%{r}<br>variable=%{theta}<extra></extra>\",\"legendgroup\":\"3\",\"line\":{\"color\":\"#ab63fa\",\"dash\":\"solid\"},\"marker\":{\"symbol\":\"circle\"},\"mode\":\"lines\",\"name\":\"3\",\"r\":[0.7678421494542407,0.1549118387909336,0.12111670864819528,1.0,1.0,0.15018891687657432,0.8584576632435547,0.6125104953820225,0.2914503250596958,0.7678421494542407],\"showlegend\":true,\"subplot\":\"polar\",\"theta\":[\"Elevation\",\"Aspect\",\"Slope\",\"Hillshade_9am\",\"Hillshade_Noon\",\"Horizontal_Distance_To_Fire_Points\",\"Soil_Type\",\"Wilderness\",\"Distance_To_Hydrology\",\"Elevation\"],\"type\":\"scatterpolar\"},{\"hovertemplate\":\"predicted_target=4<br>value=%{r}<br>variable=%{theta}<extra></extra>\",\"legendgroup\":\"4\",\"line\":{\"color\":\"#FFA15A\",\"dash\":\"solid\"},\"marker\":{\"symbol\":\"circle\"},\"mode\":\"lines\",\"name\":\"4\",\"r\":[0.08277404921700227,0.9753914988814316,0.5436241610738254,0.0,1.0,0.0,0.24987093443469252,0.9351230425055931,0.21722573110797777,0.08277404921700227],\"showlegend\":true,\"subplot\":\"polar\",\"theta\":[\"Elevation\",\"Aspect\",\"Slope\",\"Hillshade_9am\",\"Hillshade_Noon\",\"Horizontal_Distance_To_Fire_Points\",\"Soil_Type\",\"Wilderness\",\"Distance_To_Hydrology\",\"Elevation\"],\"type\":\"scatterpolar\"},{\"hovertemplate\":\"predicted_target=5<br>value=%{r}<br>variable=%{theta}<extra></extra>\",\"legendgroup\":\"5\",\"line\":{\"color\":\"#19d3f3\",\"dash\":\"solid\"},\"marker\":{\"symbol\":\"circle\"},\"mode\":\"lines\",\"name\":\"5\",\"r\":[0.6666666666666666,1.0,0.6666666666666666,0.0,0.0,0.5,0.717948717948718,0.0,0.1386750490563073,0.6666666666666666],\"showlegend\":true,\"subplot\":\"polar\",\"theta\":[\"Elevation\",\"Aspect\",\"Slope\",\"Hillshade_9am\",\"Hillshade_Noon\",\"Horizontal_Distance_To_Fire_Points\",\"Soil_Type\",\"Wilderness\",\"Distance_To_Hydrology\",\"Elevation\"],\"type\":\"scatterpolar\"},{\"hovertemplate\":\"predicted_target=6<br>value=%{r}<br>variable=%{theta}<extra></extra>\",\"legendgroup\":\"6\",\"line\":{\"color\":\"#FF6692\",\"dash\":\"solid\"},\"marker\":{\"symbol\":\"circle\"},\"mode\":\"lines\",\"name\":\"6\",\"r\":[0.7380952380952381,0.9761904761904762,0.5238095238095238,0.0,1.0,0.17857142857142858,0.836996336996337,0.2857142857142857,0.3135745637005112,0.7380952380952381],\"showlegend\":true,\"subplot\":\"polar\",\"theta\":[\"Elevation\",\"Aspect\",\"Slope\",\"Hillshade_9am\",\"Hillshade_Noon\",\"Horizontal_Distance_To_Fire_Points\",\"Soil_Type\",\"Wilderness\",\"Distance_To_Hydrology\",\"Elevation\"],\"type\":\"scatterpolar\"}],                        {\"legend\":{\"title\":{\"text\":\"predicted_target\"},\"tracegroupgap\":0},\"polar\":{\"angularaxis\":{\"direction\":\"clockwise\",\"rotation\":90},\"domain\":{\"x\":[0.0,1.0],\"y\":[0.0,1.0]}},\"template\":{\"data\":{\"bar\":[{\"error_x\":{\"color\":\"#2a3f5f\"},\"error_y\":{\"color\":\"#2a3f5f\"},\"marker\":{\"line\":{\"color\":\"#E5ECF6\",\"width\":0.5},\"pattern\":{\"fillmode\":\"overlay\",\"size\":10,\"solidity\":0.2}},\"type\":\"bar\"}],\"barpolar\":[{\"marker\":{\"line\":{\"color\":\"#E5ECF6\",\"width\":0.5},\"pattern\":{\"fillmode\":\"overlay\",\"size\":10,\"solidity\":0.2}},\"type\":\"barpolar\"}],\"carpet\":[{\"aaxis\":{\"endlinecolor\":\"#2a3f5f\",\"gridcolor\":\"white\",\"linecolor\":\"white\",\"minorgridcolor\":\"white\",\"startlinecolor\":\"#2a3f5f\"},\"baxis\":{\"endlinecolor\":\"#2a3f5f\",\"gridcolor\":\"white\",\"linecolor\":\"white\",\"minorgridcolor\":\"white\",\"startlinecolor\":\"#2a3f5f\"},\"type\":\"carpet\"}],\"choropleth\":[{\"colorbar\":{\"outlinewidth\":0,\"ticks\":\"\"},\"type\":\"choropleth\"}],\"contour\":[{\"colorbar\":{\"outlinewidth\":0,\"ticks\":\"\"},\"colorscale\":[[0.0,\"#0d0887\"],[0.1111111111111111,\"#46039f\"],[0.2222222222222222,\"#7201a8\"],[0.3333333333333333,\"#9c179e\"],[0.4444444444444444,\"#bd3786\"],[0.5555555555555556,\"#d8576b\"],[0.6666666666666666,\"#ed7953\"],[0.7777777777777778,\"#fb9f3a\"],[0.8888888888888888,\"#fdca26\"],[1.0,\"#f0f921\"]],\"type\":\"contour\"}],\"contourcarpet\":[{\"colorbar\":{\"outlinewidth\":0,\"ticks\":\"\"},\"type\":\"contourcarpet\"}],\"heatmap\":[{\"colorbar\":{\"outlinewidth\":0,\"ticks\":\"\"},\"colorscale\":[[0.0,\"#0d0887\"],[0.1111111111111111,\"#46039f\"],[0.2222222222222222,\"#7201a8\"],[0.3333333333333333,\"#9c179e\"],[0.4444444444444444,\"#bd3786\"],[0.5555555555555556,\"#d8576b\"],[0.6666666666666666,\"#ed7953\"],[0.7777777777777778,\"#fb9f3a\"],[0.8888888888888888,\"#fdca26\"],[1.0,\"#f0f921\"]],\"type\":\"heatmap\"}],\"heatmapgl\":[{\"colorbar\":{\"outlinewidth\":0,\"ticks\":\"\"},\"colorscale\":[[0.0,\"#0d0887\"],[0.1111111111111111,\"#46039f\"],[0.2222222222222222,\"#7201a8\"],[0.3333333333333333,\"#9c179e\"],[0.4444444444444444,\"#bd3786\"],[0.5555555555555556,\"#d8576b\"],[0.6666666666666666,\"#ed7953\"],[0.7777777777777778,\"#fb9f3a\"],[0.8888888888888888,\"#fdca26\"],[1.0,\"#f0f921\"]],\"type\":\"heatmapgl\"}],\"histogram\":[{\"marker\":{\"pattern\":{\"fillmode\":\"overlay\",\"size\":10,\"solidity\":0.2}},\"type\":\"histogram\"}],\"histogram2d\":[{\"colorbar\":{\"outlinewidth\":0,\"ticks\":\"\"},\"colorscale\":[[0.0,\"#0d0887\"],[0.1111111111111111,\"#46039f\"],[0.2222222222222222,\"#7201a8\"],[0.3333333333333333,\"#9c179e\"],[0.4444444444444444,\"#bd3786\"],[0.5555555555555556,\"#d8576b\"],[0.6666666666666666,\"#ed7953\"],[0.7777777777777778,\"#fb9f3a\"],[0.8888888888888888,\"#fdca26\"],[1.0,\"#f0f921\"]],\"type\":\"histogram2d\"}],\"histogram2dcontour\":[{\"colorbar\":{\"outlinewidth\":0,\"ticks\":\"\"},\"colorscale\":[[0.0,\"#0d0887\"],[0.1111111111111111,\"#46039f\"],[0.2222222222222222,\"#7201a8\"],[0.3333333333333333,\"#9c179e\"],[0.4444444444444444,\"#bd3786\"],[0.5555555555555556,\"#d8576b\"],[0.6666666666666666,\"#ed7953\"],[0.7777777777777778,\"#fb9f3a\"],[0.8888888888888888,\"#fdca26\"],[1.0,\"#f0f921\"]],\"type\":\"histogram2dcontour\"}],\"mesh3d\":[{\"colorbar\":{\"outlinewidth\":0,\"ticks\":\"\"},\"type\":\"mesh3d\"}],\"parcoords\":[{\"line\":{\"colorbar\":{\"outlinewidth\":0,\"ticks\":\"\"}},\"type\":\"parcoords\"}],\"pie\":[{\"automargin\":true,\"type\":\"pie\"}],\"scatter\":[{\"marker\":{\"colorbar\":{\"outlinewidth\":0,\"ticks\":\"\"}},\"type\":\"scatter\"}],\"scatter3d\":[{\"line\":{\"colorbar\":{\"outlinewidth\":0,\"ticks\":\"\"}},\"marker\":{\"colorbar\":{\"outlinewidth\":0,\"ticks\":\"\"}},\"type\":\"scatter3d\"}],\"scattercarpet\":[{\"marker\":{\"colorbar\":{\"outlinewidth\":0,\"ticks\":\"\"}},\"type\":\"scattercarpet\"}],\"scattergeo\":[{\"marker\":{\"colorbar\":{\"outlinewidth\":0,\"ticks\":\"\"}},\"type\":\"scattergeo\"}],\"scattergl\":[{\"marker\":{\"colorbar\":{\"outlinewidth\":0,\"ticks\":\"\"}},\"type\":\"scattergl\"}],\"scattermapbox\":[{\"marker\":{\"colorbar\":{\"outlinewidth\":0,\"ticks\":\"\"}},\"type\":\"scattermapbox\"}],\"scatterpolar\":[{\"marker\":{\"colorbar\":{\"outlinewidth\":0,\"ticks\":\"\"}},\"type\":\"scatterpolar\"}],\"scatterpolargl\":[{\"marker\":{\"colorbar\":{\"outlinewidth\":0,\"ticks\":\"\"}},\"type\":\"scatterpolargl\"}],\"scatterternary\":[{\"marker\":{\"colorbar\":{\"outlinewidth\":0,\"ticks\":\"\"}},\"type\":\"scatterternary\"}],\"surface\":[{\"colorbar\":{\"outlinewidth\":0,\"ticks\":\"\"},\"colorscale\":[[0.0,\"#0d0887\"],[0.1111111111111111,\"#46039f\"],[0.2222222222222222,\"#7201a8\"],[0.3333333333333333,\"#9c179e\"],[0.4444444444444444,\"#bd3786\"],[0.5555555555555556,\"#d8576b\"],[0.6666666666666666,\"#ed7953\"],[0.7777777777777778,\"#fb9f3a\"],[0.8888888888888888,\"#fdca26\"],[1.0,\"#f0f921\"]],\"type\":\"surface\"}],\"table\":[{\"cells\":{\"fill\":{\"color\":\"#EBF0F8\"},\"line\":{\"color\":\"white\"}},\"header\":{\"fill\":{\"color\":\"#C8D4E3\"},\"line\":{\"color\":\"white\"}},\"type\":\"table\"}]},\"layout\":{\"annotationdefaults\":{\"arrowcolor\":\"#2a3f5f\",\"arrowhead\":0,\"arrowwidth\":1},\"autotypenumbers\":\"strict\",\"coloraxis\":{\"colorbar\":{\"outlinewidth\":0,\"ticks\":\"\"}},\"colorscale\":{\"diverging\":[[0,\"#8e0152\"],[0.1,\"#c51b7d\"],[0.2,\"#de77ae\"],[0.3,\"#f1b6da\"],[0.4,\"#fde0ef\"],[0.5,\"#f7f7f7\"],[0.6,\"#e6f5d0\"],[0.7,\"#b8e186\"],[0.8,\"#7fbc41\"],[0.9,\"#4d9221\"],[1,\"#276419\"]],\"sequential\":[[0.0,\"#0d0887\"],[0.1111111111111111,\"#46039f\"],[0.2222222222222222,\"#7201a8\"],[0.3333333333333333,\"#9c179e\"],[0.4444444444444444,\"#bd3786\"],[0.5555555555555556,\"#d8576b\"],[0.6666666666666666,\"#ed7953\"],[0.7777777777777778,\"#fb9f3a\"],[0.8888888888888888,\"#fdca26\"],[1.0,\"#f0f921\"]],\"sequentialminus\":[[0.0,\"#0d0887\"],[0.1111111111111111,\"#46039f\"],[0.2222222222222222,\"#7201a8\"],[0.3333333333333333,\"#9c179e\"],[0.4444444444444444,\"#bd3786\"],[0.5555555555555556,\"#d8576b\"],[0.6666666666666666,\"#ed7953\"],[0.7777777777777778,\"#fb9f3a\"],[0.8888888888888888,\"#fdca26\"],[1.0,\"#f0f921\"]]},\"colorway\":[\"#636efa\",\"#EF553B\",\"#00cc96\",\"#ab63fa\",\"#FFA15A\",\"#19d3f3\",\"#FF6692\",\"#B6E880\",\"#FF97FF\",\"#FECB52\"],\"font\":{\"color\":\"#2a3f5f\"},\"geo\":{\"bgcolor\":\"white\",\"lakecolor\":\"white\",\"landcolor\":\"#E5ECF6\",\"showlakes\":true,\"showland\":true,\"subunitcolor\":\"white\"},\"hoverlabel\":{\"align\":\"left\"},\"hovermode\":\"closest\",\"mapbox\":{\"style\":\"light\"},\"paper_bgcolor\":\"white\",\"plot_bgcolor\":\"#E5ECF6\",\"polar\":{\"angularaxis\":{\"gridcolor\":\"white\",\"linecolor\":\"white\",\"ticks\":\"\"},\"bgcolor\":\"#E5ECF6\",\"radialaxis\":{\"gridcolor\":\"white\",\"linecolor\":\"white\",\"ticks\":\"\"}},\"scene\":{\"xaxis\":{\"backgroundcolor\":\"#E5ECF6\",\"gridcolor\":\"white\",\"gridwidth\":2,\"linecolor\":\"white\",\"showbackground\":true,\"ticks\":\"\",\"zerolinecolor\":\"white\"},\"yaxis\":{\"backgroundcolor\":\"#E5ECF6\",\"gridcolor\":\"white\",\"gridwidth\":2,\"linecolor\":\"white\",\"showbackground\":true,\"ticks\":\"\",\"zerolinecolor\":\"white\"},\"zaxis\":{\"backgroundcolor\":\"#E5ECF6\",\"gridcolor\":\"white\",\"gridwidth\":2,\"linecolor\":\"white\",\"showbackground\":true,\"ticks\":\"\",\"zerolinecolor\":\"white\"}},\"shapedefaults\":{\"line\":{\"color\":\"#2a3f5f\"}},\"ternary\":{\"aaxis\":{\"gridcolor\":\"white\",\"linecolor\":\"white\",\"ticks\":\"\"},\"baxis\":{\"gridcolor\":\"white\",\"linecolor\":\"white\",\"ticks\":\"\"},\"bgcolor\":\"#E5ECF6\",\"caxis\":{\"gridcolor\":\"white\",\"linecolor\":\"white\",\"ticks\":\"\"}},\"title\":{\"x\":0.05},\"xaxis\":{\"automargin\":true,\"gridcolor\":\"white\",\"linecolor\":\"white\",\"ticks\":\"\",\"title\":{\"standoff\":15},\"zerolinecolor\":\"white\",\"zerolinewidth\":2},\"yaxis\":{\"automargin\":true,\"gridcolor\":\"white\",\"linecolor\":\"white\",\"ticks\":\"\",\"title\":{\"standoff\":15},\"zerolinecolor\":\"white\",\"zerolinewidth\":2}}},\"title\":{\"text\":\"Visualisation of Birch Clustering\"}},                        {\"responsive\": true}                    ).then(function(){\n                            \nvar gd = document.getElementById('454f5f96-dcb9-4212-bebd-48a955a34a2f');\nvar x = new MutationObserver(function (mutations, observer) {{\n        var display = window.getComputedStyle(gd).display;\n        if (!display || display === 'none') {{\n            console.log([gd, 'removed!']);\n            Plotly.purge(gd);\n            observer.disconnect();\n        }}\n}});\n\n// Listen for the removal of the full notebook cells\nvar notebookContainer = gd.closest('#notebook-container');\nif (notebookContainer) {{\n    x.observe(notebookContainer, {childList: true});\n}}\n\n// Listen for the clearing of the current output cell\nvar outputEl = gd.closest('.output');\nif (outputEl) {{\n    x.observe(outputEl, {childList: true});\n}}\n\n                        })                };                            </script>        </div>\n</body>\n</html>"
     },
     "metadata": {},
     "output_type": "display_data"
    }
   ],
   "execution_count": null
  },
  {
   "cell_type": "markdown",
   "source": "### Agglomerative Clustering",
   "metadata": {
    "tags": [],
    "is_collapsed": false,
    "cell_id": "00037-25378b56-5b38-412e-bd05-b2eae0d8b304",
    "deepnote_cell_type": "text-cell-h3"
   }
  },
  {
   "cell_type": "code",
   "metadata": {
    "tags": [],
    "cell_id": "00037-689dc847-a8d5-43b8-9279-3bfb52a83a42",
    "deepnote_to_be_reexecuted": false,
    "source_hash": "1f56e972",
    "execution_start": 1638100256643,
    "execution_millis": 181,
    "deepnote_output_heights": [
     527
    ],
    "deepnote_cell_type": "code"
   },
   "source": "clusters_ac =pd.DataFrame(X,columns=Xdf.columns)\nclusters_ac['predicted_target']= labels_ac\ngroup = clusters_ac.groupby(\"predicted_target\")\ngroup = group.mean().reset_index()\ncluster_groups=pd.melt(group,id_vars=[\"predicted_target\"])\nfig = px.line_polar(cluster_groups, r=\"value\", theta=\"variable\", color=\"predicted_target\", line_close=True, title= \"Visualisation of Agglomerative Clustering clustering\")\nfig.show()",
   "outputs": [
    {
     "data": {
      "text/html": "<html>\n<head><meta charset=\"utf-8\" /></head>\n<body>\n    <div>            <script src=\"https://cdnjs.cloudflare.com/ajax/libs/mathjax/2.7.5/MathJax.js?config=TeX-AMS-MML_SVG\"></script><script type=\"text/javascript\">if (window.MathJax) {MathJax.Hub.Config({SVG: {font: \"STIX-Web\"}});}</script>                <script type=\"text/javascript\">window.PlotlyConfig = {MathJaxConfig: 'local'};</script>\n        <script src=\"https://cdn.plot.ly/plotly-2.4.2.min.js\"></script>                <div id=\"aeef014f-10a4-4467-95f3-a3644c91375e\" class=\"plotly-graph-div\" style=\"height:525px; width:100%;\"></div>            <script type=\"text/javascript\">                                    window.PLOTLYENV=window.PLOTLYENV || {};                                    if (document.getElementById(\"aeef014f-10a4-4467-95f3-a3644c91375e\")) {                    Plotly.newPlot(                        \"aeef014f-10a4-4467-95f3-a3644c91375e\",                        [{\"hovertemplate\":\"predicted_target=0<br>value=%{r}<br>variable=%{theta}<extra></extra>\",\"legendgroup\":\"0\",\"line\":{\"color\":\"#636efa\",\"dash\":\"solid\"},\"marker\":{\"symbol\":\"circle\"},\"mode\":\"lines\",\"name\":\"0\",\"r\":[0.1704161979752533,0.9700037495313093,0.21991001124859155,0.9077615298087739,0.999437570303712,0.001687289088863892,0.22658706123272931,0.9043869516310503,0.20234008375513649,0.1704161979752533],\"showlegend\":true,\"subplot\":\"polar\",\"theta\":[\"Elevation\",\"Aspect\",\"Slope\",\"Hillshade_9am\",\"Hillshade_Noon\",\"Horizontal_Distance_To_Fire_Points\",\"Soil_Type\",\"Wilderness\",\"Distance_To_Hydrology\",\"Elevation\"],\"type\":\"scatterpolar\"},{\"hovertemplate\":\"predicted_target=1<br>value=%{r}<br>variable=%{theta}<extra></extra>\",\"legendgroup\":\"1\",\"line\":{\"color\":\"#EF553B\",\"dash\":\"solid\"},\"marker\":{\"symbol\":\"circle\"},\"mode\":\"lines\",\"name\":\"1\",\"r\":[0.07112019995455632,0.22937968643490098,0.24801181549648063,1.0,1.0,0.0,0.13489941097303007,1.0,0.1973904227095859,0.07112019995455632],\"showlegend\":true,\"subplot\":\"polar\",\"theta\":[\"Elevation\",\"Aspect\",\"Slope\",\"Hillshade_9am\",\"Hillshade_Noon\",\"Horizontal_Distance_To_Fire_Points\",\"Soil_Type\",\"Wilderness\",\"Distance_To_Hydrology\",\"Elevation\"],\"type\":\"scatterpolar\"},{\"hovertemplate\":\"predicted_target=2<br>value=%{r}<br>variable=%{theta}<extra></extra>\",\"legendgroup\":\"2\",\"line\":{\"color\":\"#00cc96\",\"dash\":\"solid\"},\"marker\":{\"symbol\":\"circle\"},\"mode\":\"lines\",\"name\":\"2\",\"r\":[0.6850036310820649,0.9399055918663783,0.10403050108932516,1.0,1.0,0.16285403050108932,0.7474163454555608,0.4139433551198227,0.260812303422033,0.6850036310820649],\"showlegend\":true,\"subplot\":\"polar\",\"theta\":[\"Elevation\",\"Aspect\",\"Slope\",\"Hillshade_9am\",\"Hillshade_Noon\",\"Horizontal_Distance_To_Fire_Points\",\"Soil_Type\",\"Wilderness\",\"Distance_To_Hydrology\",\"Elevation\"],\"type\":\"scatterpolar\"},{\"hovertemplate\":\"predicted_target=3<br>value=%{r}<br>variable=%{theta}<extra></extra>\",\"legendgroup\":\"3\",\"line\":{\"color\":\"#ab63fa\",\"dash\":\"solid\"},\"marker\":{\"symbol\":\"circle\"},\"mode\":\"lines\",\"name\":\"3\",\"r\":[0.6137463697967042,0.19619232010326,0.07776702161987732,1.0,1.0,0.60648596321394,0.6861518604016164,0.007099064214262663,0.19963133460269403,0.6137463697967042],\"showlegend\":true,\"subplot\":\"polar\",\"theta\":[\"Elevation\",\"Aspect\",\"Slope\",\"Hillshade_9am\",\"Hillshade_Noon\",\"Horizontal_Distance_To_Fire_Points\",\"Soil_Type\",\"Wilderness\",\"Distance_To_Hydrology\",\"Elevation\"],\"type\":\"scatterpolar\"},{\"hovertemplate\":\"predicted_target=4<br>value=%{r}<br>variable=%{theta}<extra></extra>\",\"legendgroup\":\"4\",\"line\":{\"color\":\"#FFA15A\",\"dash\":\"solid\"},\"marker\":{\"symbol\":\"circle\"},\"mode\":\"lines\",\"name\":\"4\",\"r\":[0.7121645552377159,0.2243563547200639,0.1100667483994013,1.0,1.0,0.09521863506334287,0.8093112445380483,0.6116332924669743,0.27413962998601227,0.7121645552377159],\"showlegend\":true,\"subplot\":\"polar\",\"theta\":[\"Elevation\",\"Aspect\",\"Slope\",\"Hillshade_9am\",\"Hillshade_Noon\",\"Horizontal_Distance_To_Fire_Points\",\"Soil_Type\",\"Wilderness\",\"Distance_To_Hydrology\",\"Elevation\"],\"type\":\"scatterpolar\"},{\"hovertemplate\":\"predicted_target=5<br>value=%{r}<br>variable=%{theta}<extra></extra>\",\"legendgroup\":\"5\",\"line\":{\"color\":\"#19d3f3\",\"dash\":\"solid\"},\"marker\":{\"symbol\":\"circle\"},\"mode\":\"lines\",\"name\":\"5\",\"r\":[0.36498973305955557,0.273442847364817,0.18668720054756857,1.0,0.9948665297741273,0.046457905544147846,0.19798083504449243,0.6647843942505169,0.20135994581338493,0.36498973305955557],\"showlegend\":true,\"subplot\":\"polar\",\"theta\":[\"Elevation\",\"Aspect\",\"Slope\",\"Hillshade_9am\",\"Hillshade_Noon\",\"Horizontal_Distance_To_Fire_Points\",\"Soil_Type\",\"Wilderness\",\"Distance_To_Hydrology\",\"Elevation\"],\"type\":\"scatterpolar\"},{\"hovertemplate\":\"predicted_target=6<br>value=%{r}<br>variable=%{theta}<extra></extra>\",\"legendgroup\":\"6\",\"line\":{\"color\":\"#FF6692\",\"dash\":\"solid\"},\"marker\":{\"symbol\":\"circle\"},\"mode\":\"lines\",\"name\":\"6\",\"r\":[0.5198653198653258,0.1319865319865328,0.15308641975308765,1.0,1.0,0.0,0.6913407580074203,0.0,0.19987351556787913,0.5198653198653258],\"showlegend\":true,\"subplot\":\"polar\",\"theta\":[\"Elevation\",\"Aspect\",\"Slope\",\"Hillshade_9am\",\"Hillshade_Noon\",\"Horizontal_Distance_To_Fire_Points\",\"Soil_Type\",\"Wilderness\",\"Distance_To_Hydrology\",\"Elevation\"],\"type\":\"scatterpolar\"}],                        {\"legend\":{\"title\":{\"text\":\"predicted_target\"},\"tracegroupgap\":0},\"polar\":{\"angularaxis\":{\"direction\":\"clockwise\",\"rotation\":90},\"domain\":{\"x\":[0.0,1.0],\"y\":[0.0,1.0]}},\"template\":{\"data\":{\"bar\":[{\"error_x\":{\"color\":\"#2a3f5f\"},\"error_y\":{\"color\":\"#2a3f5f\"},\"marker\":{\"line\":{\"color\":\"#E5ECF6\",\"width\":0.5},\"pattern\":{\"fillmode\":\"overlay\",\"size\":10,\"solidity\":0.2}},\"type\":\"bar\"}],\"barpolar\":[{\"marker\":{\"line\":{\"color\":\"#E5ECF6\",\"width\":0.5},\"pattern\":{\"fillmode\":\"overlay\",\"size\":10,\"solidity\":0.2}},\"type\":\"barpolar\"}],\"carpet\":[{\"aaxis\":{\"endlinecolor\":\"#2a3f5f\",\"gridcolor\":\"white\",\"linecolor\":\"white\",\"minorgridcolor\":\"white\",\"startlinecolor\":\"#2a3f5f\"},\"baxis\":{\"endlinecolor\":\"#2a3f5f\",\"gridcolor\":\"white\",\"linecolor\":\"white\",\"minorgridcolor\":\"white\",\"startlinecolor\":\"#2a3f5f\"},\"type\":\"carpet\"}],\"choropleth\":[{\"colorbar\":{\"outlinewidth\":0,\"ticks\":\"\"},\"type\":\"choropleth\"}],\"contour\":[{\"colorbar\":{\"outlinewidth\":0,\"ticks\":\"\"},\"colorscale\":[[0.0,\"#0d0887\"],[0.1111111111111111,\"#46039f\"],[0.2222222222222222,\"#7201a8\"],[0.3333333333333333,\"#9c179e\"],[0.4444444444444444,\"#bd3786\"],[0.5555555555555556,\"#d8576b\"],[0.6666666666666666,\"#ed7953\"],[0.7777777777777778,\"#fb9f3a\"],[0.8888888888888888,\"#fdca26\"],[1.0,\"#f0f921\"]],\"type\":\"contour\"}],\"contourcarpet\":[{\"colorbar\":{\"outlinewidth\":0,\"ticks\":\"\"},\"type\":\"contourcarpet\"}],\"heatmap\":[{\"colorbar\":{\"outlinewidth\":0,\"ticks\":\"\"},\"colorscale\":[[0.0,\"#0d0887\"],[0.1111111111111111,\"#46039f\"],[0.2222222222222222,\"#7201a8\"],[0.3333333333333333,\"#9c179e\"],[0.4444444444444444,\"#bd3786\"],[0.5555555555555556,\"#d8576b\"],[0.6666666666666666,\"#ed7953\"],[0.7777777777777778,\"#fb9f3a\"],[0.8888888888888888,\"#fdca26\"],[1.0,\"#f0f921\"]],\"type\":\"heatmap\"}],\"heatmapgl\":[{\"colorbar\":{\"outlinewidth\":0,\"ticks\":\"\"},\"colorscale\":[[0.0,\"#0d0887\"],[0.1111111111111111,\"#46039f\"],[0.2222222222222222,\"#7201a8\"],[0.3333333333333333,\"#9c179e\"],[0.4444444444444444,\"#bd3786\"],[0.5555555555555556,\"#d8576b\"],[0.6666666666666666,\"#ed7953\"],[0.7777777777777778,\"#fb9f3a\"],[0.8888888888888888,\"#fdca26\"],[1.0,\"#f0f921\"]],\"type\":\"heatmapgl\"}],\"histogram\":[{\"marker\":{\"pattern\":{\"fillmode\":\"overlay\",\"size\":10,\"solidity\":0.2}},\"type\":\"histogram\"}],\"histogram2d\":[{\"colorbar\":{\"outlinewidth\":0,\"ticks\":\"\"},\"colorscale\":[[0.0,\"#0d0887\"],[0.1111111111111111,\"#46039f\"],[0.2222222222222222,\"#7201a8\"],[0.3333333333333333,\"#9c179e\"],[0.4444444444444444,\"#bd3786\"],[0.5555555555555556,\"#d8576b\"],[0.6666666666666666,\"#ed7953\"],[0.7777777777777778,\"#fb9f3a\"],[0.8888888888888888,\"#fdca26\"],[1.0,\"#f0f921\"]],\"type\":\"histogram2d\"}],\"histogram2dcontour\":[{\"colorbar\":{\"outlinewidth\":0,\"ticks\":\"\"},\"colorscale\":[[0.0,\"#0d0887\"],[0.1111111111111111,\"#46039f\"],[0.2222222222222222,\"#7201a8\"],[0.3333333333333333,\"#9c179e\"],[0.4444444444444444,\"#bd3786\"],[0.5555555555555556,\"#d8576b\"],[0.6666666666666666,\"#ed7953\"],[0.7777777777777778,\"#fb9f3a\"],[0.8888888888888888,\"#fdca26\"],[1.0,\"#f0f921\"]],\"type\":\"histogram2dcontour\"}],\"mesh3d\":[{\"colorbar\":{\"outlinewidth\":0,\"ticks\":\"\"},\"type\":\"mesh3d\"}],\"parcoords\":[{\"line\":{\"colorbar\":{\"outlinewidth\":0,\"ticks\":\"\"}},\"type\":\"parcoords\"}],\"pie\":[{\"automargin\":true,\"type\":\"pie\"}],\"scatter\":[{\"marker\":{\"colorbar\":{\"outlinewidth\":0,\"ticks\":\"\"}},\"type\":\"scatter\"}],\"scatter3d\":[{\"line\":{\"colorbar\":{\"outlinewidth\":0,\"ticks\":\"\"}},\"marker\":{\"colorbar\":{\"outlinewidth\":0,\"ticks\":\"\"}},\"type\":\"scatter3d\"}],\"scattercarpet\":[{\"marker\":{\"colorbar\":{\"outlinewidth\":0,\"ticks\":\"\"}},\"type\":\"scattercarpet\"}],\"scattergeo\":[{\"marker\":{\"colorbar\":{\"outlinewidth\":0,\"ticks\":\"\"}},\"type\":\"scattergeo\"}],\"scattergl\":[{\"marker\":{\"colorbar\":{\"outlinewidth\":0,\"ticks\":\"\"}},\"type\":\"scattergl\"}],\"scattermapbox\":[{\"marker\":{\"colorbar\":{\"outlinewidth\":0,\"ticks\":\"\"}},\"type\":\"scattermapbox\"}],\"scatterpolar\":[{\"marker\":{\"colorbar\":{\"outlinewidth\":0,\"ticks\":\"\"}},\"type\":\"scatterpolar\"}],\"scatterpolargl\":[{\"marker\":{\"colorbar\":{\"outlinewidth\":0,\"ticks\":\"\"}},\"type\":\"scatterpolargl\"}],\"scatterternary\":[{\"marker\":{\"colorbar\":{\"outlinewidth\":0,\"ticks\":\"\"}},\"type\":\"scatterternary\"}],\"surface\":[{\"colorbar\":{\"outlinewidth\":0,\"ticks\":\"\"},\"colorscale\":[[0.0,\"#0d0887\"],[0.1111111111111111,\"#46039f\"],[0.2222222222222222,\"#7201a8\"],[0.3333333333333333,\"#9c179e\"],[0.4444444444444444,\"#bd3786\"],[0.5555555555555556,\"#d8576b\"],[0.6666666666666666,\"#ed7953\"],[0.7777777777777778,\"#fb9f3a\"],[0.8888888888888888,\"#fdca26\"],[1.0,\"#f0f921\"]],\"type\":\"surface\"}],\"table\":[{\"cells\":{\"fill\":{\"color\":\"#EBF0F8\"},\"line\":{\"color\":\"white\"}},\"header\":{\"fill\":{\"color\":\"#C8D4E3\"},\"line\":{\"color\":\"white\"}},\"type\":\"table\"}]},\"layout\":{\"annotationdefaults\":{\"arrowcolor\":\"#2a3f5f\",\"arrowhead\":0,\"arrowwidth\":1},\"autotypenumbers\":\"strict\",\"coloraxis\":{\"colorbar\":{\"outlinewidth\":0,\"ticks\":\"\"}},\"colorscale\":{\"diverging\":[[0,\"#8e0152\"],[0.1,\"#c51b7d\"],[0.2,\"#de77ae\"],[0.3,\"#f1b6da\"],[0.4,\"#fde0ef\"],[0.5,\"#f7f7f7\"],[0.6,\"#e6f5d0\"],[0.7,\"#b8e186\"],[0.8,\"#7fbc41\"],[0.9,\"#4d9221\"],[1,\"#276419\"]],\"sequential\":[[0.0,\"#0d0887\"],[0.1111111111111111,\"#46039f\"],[0.2222222222222222,\"#7201a8\"],[0.3333333333333333,\"#9c179e\"],[0.4444444444444444,\"#bd3786\"],[0.5555555555555556,\"#d8576b\"],[0.6666666666666666,\"#ed7953\"],[0.7777777777777778,\"#fb9f3a\"],[0.8888888888888888,\"#fdca26\"],[1.0,\"#f0f921\"]],\"sequentialminus\":[[0.0,\"#0d0887\"],[0.1111111111111111,\"#46039f\"],[0.2222222222222222,\"#7201a8\"],[0.3333333333333333,\"#9c179e\"],[0.4444444444444444,\"#bd3786\"],[0.5555555555555556,\"#d8576b\"],[0.6666666666666666,\"#ed7953\"],[0.7777777777777778,\"#fb9f3a\"],[0.8888888888888888,\"#fdca26\"],[1.0,\"#f0f921\"]]},\"colorway\":[\"#636efa\",\"#EF553B\",\"#00cc96\",\"#ab63fa\",\"#FFA15A\",\"#19d3f3\",\"#FF6692\",\"#B6E880\",\"#FF97FF\",\"#FECB52\"],\"font\":{\"color\":\"#2a3f5f\"},\"geo\":{\"bgcolor\":\"white\",\"lakecolor\":\"white\",\"landcolor\":\"#E5ECF6\",\"showlakes\":true,\"showland\":true,\"subunitcolor\":\"white\"},\"hoverlabel\":{\"align\":\"left\"},\"hovermode\":\"closest\",\"mapbox\":{\"style\":\"light\"},\"paper_bgcolor\":\"white\",\"plot_bgcolor\":\"#E5ECF6\",\"polar\":{\"angularaxis\":{\"gridcolor\":\"white\",\"linecolor\":\"white\",\"ticks\":\"\"},\"bgcolor\":\"#E5ECF6\",\"radialaxis\":{\"gridcolor\":\"white\",\"linecolor\":\"white\",\"ticks\":\"\"}},\"scene\":{\"xaxis\":{\"backgroundcolor\":\"#E5ECF6\",\"gridcolor\":\"white\",\"gridwidth\":2,\"linecolor\":\"white\",\"showbackground\":true,\"ticks\":\"\",\"zerolinecolor\":\"white\"},\"yaxis\":{\"backgroundcolor\":\"#E5ECF6\",\"gridcolor\":\"white\",\"gridwidth\":2,\"linecolor\":\"white\",\"showbackground\":true,\"ticks\":\"\",\"zerolinecolor\":\"white\"},\"zaxis\":{\"backgroundcolor\":\"#E5ECF6\",\"gridcolor\":\"white\",\"gridwidth\":2,\"linecolor\":\"white\",\"showbackground\":true,\"ticks\":\"\",\"zerolinecolor\":\"white\"}},\"shapedefaults\":{\"line\":{\"color\":\"#2a3f5f\"}},\"ternary\":{\"aaxis\":{\"gridcolor\":\"white\",\"linecolor\":\"white\",\"ticks\":\"\"},\"baxis\":{\"gridcolor\":\"white\",\"linecolor\":\"white\",\"ticks\":\"\"},\"bgcolor\":\"#E5ECF6\",\"caxis\":{\"gridcolor\":\"white\",\"linecolor\":\"white\",\"ticks\":\"\"}},\"title\":{\"x\":0.05},\"xaxis\":{\"automargin\":true,\"gridcolor\":\"white\",\"linecolor\":\"white\",\"ticks\":\"\",\"title\":{\"standoff\":15},\"zerolinecolor\":\"white\",\"zerolinewidth\":2},\"yaxis\":{\"automargin\":true,\"gridcolor\":\"white\",\"linecolor\":\"white\",\"ticks\":\"\",\"title\":{\"standoff\":15},\"zerolinecolor\":\"white\",\"zerolinewidth\":2}}},\"title\":{\"text\":\"Visualisation of Agglomerative Clustering clustering\"}},                        {\"responsive\": true}                    ).then(function(){\n                            \nvar gd = document.getElementById('aeef014f-10a4-4467-95f3-a3644c91375e');\nvar x = new MutationObserver(function (mutations, observer) {{\n        var display = window.getComputedStyle(gd).display;\n        if (!display || display === 'none') {{\n            console.log([gd, 'removed!']);\n            Plotly.purge(gd);\n            observer.disconnect();\n        }}\n}});\n\n// Listen for the removal of the full notebook cells\nvar notebookContainer = gd.closest('#notebook-container');\nif (notebookContainer) {{\n    x.observe(notebookContainer, {childList: true});\n}}\n\n// Listen for the clearing of the current output cell\nvar outputEl = gd.closest('.output');\nif (outputEl) {{\n    x.observe(outputEl, {childList: true});\n}}\n\n                        })                };                            </script>        </div>\n</body>\n</html>"
     },
     "metadata": {},
     "output_type": "display_data"
    }
   ],
   "execution_count": null
  },
  {
   "cell_type": "markdown",
   "source": "### Gaussian Mixture Model",
   "metadata": {
    "tags": [],
    "is_collapsed": false,
    "cell_id": "00046-a5f4a457-ea97-4d2e-9825-9897b0346104",
    "deepnote_cell_type": "text-cell-h3"
   }
  },
  {
   "cell_type": "code",
   "metadata": {
    "tags": [],
    "cell_id": "00048-0fa1a4db-7966-496c-b0e0-d75b1d3f3e7c",
    "deepnote_to_be_reexecuted": false,
    "source_hash": "8554ba71",
    "execution_start": 1638100256823,
    "execution_millis": 107,
    "deepnote_output_heights": [
     527
    ],
    "deepnote_cell_type": "code"
   },
   "source": "clusters_gm =pd.DataFrame(X,columns=Xdf.columns)\nclusters_gm['predicted_target']= labels_gm\ngroup = clusters_gm.groupby(\"predicted_target\")\ngroup = group.mean().reset_index()\ncluster_groups=pd.melt(group,id_vars=[\"predicted_target\"])\nfig = px.line_polar(cluster_groups, r=\"value\", theta=\"variable\", color=\"predicted_target\", line_close=True, title= \"Visualisation of Gaussian Mixture Model clustering\")\nfig.show()",
   "outputs": [
    {
     "data": {
      "text/html": "<html>\n<head><meta charset=\"utf-8\" /></head>\n<body>\n    <div>            <script src=\"https://cdnjs.cloudflare.com/ajax/libs/mathjax/2.7.5/MathJax.js?config=TeX-AMS-MML_SVG\"></script><script type=\"text/javascript\">if (window.MathJax) {MathJax.Hub.Config({SVG: {font: \"STIX-Web\"}});}</script>                <script type=\"text/javascript\">window.PlotlyConfig = {MathJaxConfig: 'local'};</script>\n        <script src=\"https://cdn.plot.ly/plotly-2.4.2.min.js\"></script>                <div id=\"9d0f5d22-3d69-4127-9b37-47a9a7fe249f\" class=\"plotly-graph-div\" style=\"height:525px; width:100%;\"></div>            <script type=\"text/javascript\">                                    window.PLOTLYENV=window.PLOTLYENV || {};                                    if (document.getElementById(\"9d0f5d22-3d69-4127-9b37-47a9a7fe249f\")) {                    Plotly.newPlot(                        \"9d0f5d22-3d69-4127-9b37-47a9a7fe249f\",                        [{\"hovertemplate\":\"predicted_target=0<br>value=%{r}<br>variable=%{theta}<extra></extra>\",\"legendgroup\":\"0\",\"line\":{\"color\":\"#636efa\",\"dash\":\"solid\"},\"marker\":{\"symbol\":\"circle\"},\"mode\":\"lines\",\"name\":\"0\",\"r\":[0.8417085427135683,0.4095477386934675,0.11809045226130664,1.0,1.0,0.12437185929648241,0.8337198814585752,0.3333333333333318,0.2682456947835438,0.8417085427135683],\"showlegend\":true,\"subplot\":\"polar\",\"theta\":[\"Elevation\",\"Aspect\",\"Slope\",\"Hillshade_9am\",\"Hillshade_Noon\",\"Horizontal_Distance_To_Fire_Points\",\"Soil_Type\",\"Wilderness\",\"Distance_To_Hydrology\",\"Elevation\"],\"type\":\"scatterpolar\"},{\"hovertemplate\":\"predicted_target=1<br>value=%{r}<br>variable=%{theta}<extra></extra>\",\"legendgroup\":\"1\",\"line\":{\"color\":\"#EF553B\",\"dash\":\"solid\"},\"marker\":{\"symbol\":\"circle\"},\"mode\":\"lines\",\"name\":\"1\",\"r\":[0.18399326918020664,0.4322974180995861,0.21638533943313387,1.0,1.0,0.0,0.1716399496806585,0.8818951464479324,0.2013800485493967,0.18399326918020664],\"showlegend\":true,\"subplot\":\"polar\",\"theta\":[\"Elevation\",\"Aspect\",\"Slope\",\"Hillshade_9am\",\"Hillshade_Noon\",\"Horizontal_Distance_To_Fire_Points\",\"Soil_Type\",\"Wilderness\",\"Distance_To_Hydrology\",\"Elevation\"],\"type\":\"scatterpolar\"},{\"hovertemplate\":\"predicted_target=2<br>value=%{r}<br>variable=%{theta}<extra></extra>\",\"legendgroup\":\"2\",\"line\":{\"color\":\"#00cc96\",\"dash\":\"solid\"},\"marker\":{\"symbol\":\"circle\"},\"mode\":\"lines\",\"name\":\"2\",\"r\":[0.6944444444444446,0.09722222222222221,0.4583333333333333,1.0,0.5833333333333334,0.0,0.8012820512820514,0.15277777777777776,0.5014596348770556,0.6944444444444446],\"showlegend\":true,\"subplot\":\"polar\",\"theta\":[\"Elevation\",\"Aspect\",\"Slope\",\"Hillshade_9am\",\"Hillshade_Noon\",\"Horizontal_Distance_To_Fire_Points\",\"Soil_Type\",\"Wilderness\",\"Distance_To_Hydrology\",\"Elevation\"],\"type\":\"scatterpolar\"},{\"hovertemplate\":\"predicted_target=3<br>value=%{r}<br>variable=%{theta}<extra></extra>\",\"legendgroup\":\"3\",\"line\":{\"color\":\"#ab63fa\",\"dash\":\"solid\"},\"marker\":{\"symbol\":\"circle\"},\"mode\":\"lines\",\"name\":\"3\",\"r\":[0.6666666666666671,1.0,0.07971014492753623,0.8478260869565217,0.9782608695652174,0.06521739130434782,0.5947603121516171,0.282608695652174,0.2039128595699503,0.6666666666666671],\"showlegend\":true,\"subplot\":\"polar\",\"theta\":[\"Elevation\",\"Aspect\",\"Slope\",\"Hillshade_9am\",\"Hillshade_Noon\",\"Horizontal_Distance_To_Fire_Points\",\"Soil_Type\",\"Wilderness\",\"Distance_To_Hydrology\",\"Elevation\"],\"type\":\"scatterpolar\"},{\"hovertemplate\":\"predicted_target=4<br>value=%{r}<br>variable=%{theta}<extra></extra>\",\"legendgroup\":\"4\",\"line\":{\"color\":\"#FFA15A\",\"dash\":\"solid\"},\"marker\":{\"symbol\":\"circle\"},\"mode\":\"lines\",\"name\":\"4\",\"r\":[0.5770767613038849,0.3086225026288169,0.11735015772870575,1.0,1.0,0.2358044164037855,0.6922025398366217,0.0,0.20381301103272748,0.5770767613038849],\"showlegend\":true,\"subplot\":\"polar\",\"theta\":[\"Elevation\",\"Aspect\",\"Slope\",\"Hillshade_9am\",\"Hillshade_Noon\",\"Horizontal_Distance_To_Fire_Points\",\"Soil_Type\",\"Wilderness\",\"Distance_To_Hydrology\",\"Elevation\"],\"type\":\"scatterpolar\"},{\"hovertemplate\":\"predicted_target=5<br>value=%{r}<br>variable=%{theta}<extra></extra>\",\"legendgroup\":\"5\",\"line\":{\"color\":\"#19d3f3\",\"dash\":\"solid\"},\"marker\":{\"symbol\":\"circle\"},\"mode\":\"lines\",\"name\":\"5\",\"r\":[0.11889596602972405,0.9745222929936306,0.5435244161358809,0.0,1.0,0.0,0.28107137024334444,0.912951167728238,0.227721683275875,0.11889596602972405],\"showlegend\":true,\"subplot\":\"polar\",\"theta\":[\"Elevation\",\"Aspect\",\"Slope\",\"Hillshade_9am\",\"Hillshade_Noon\",\"Horizontal_Distance_To_Fire_Points\",\"Soil_Type\",\"Wilderness\",\"Distance_To_Hydrology\",\"Elevation\"],\"type\":\"scatterpolar\"},{\"hovertemplate\":\"predicted_target=6<br>value=%{r}<br>variable=%{theta}<extra></extra>\",\"legendgroup\":\"6\",\"line\":{\"color\":\"#FF6692\",\"dash\":\"solid\"},\"marker\":{\"symbol\":\"circle\"},\"mode\":\"lines\",\"name\":\"6\",\"r\":[0.6709748522192163,0.4570684300170299,0.1081054002604945,1.0,1.0,0.13585813044785092,0.7717355282729366,0.666666666666683,0.26969980769725643,0.6709748522192163],\"showlegend\":true,\"subplot\":\"polar\",\"theta\":[\"Elevation\",\"Aspect\",\"Slope\",\"Hillshade_9am\",\"Hillshade_Noon\",\"Horizontal_Distance_To_Fire_Points\",\"Soil_Type\",\"Wilderness\",\"Distance_To_Hydrology\",\"Elevation\"],\"type\":\"scatterpolar\"}],                        {\"legend\":{\"title\":{\"text\":\"predicted_target\"},\"tracegroupgap\":0},\"polar\":{\"angularaxis\":{\"direction\":\"clockwise\",\"rotation\":90},\"domain\":{\"x\":[0.0,1.0],\"y\":[0.0,1.0]}},\"template\":{\"data\":{\"bar\":[{\"error_x\":{\"color\":\"#2a3f5f\"},\"error_y\":{\"color\":\"#2a3f5f\"},\"marker\":{\"line\":{\"color\":\"#E5ECF6\",\"width\":0.5},\"pattern\":{\"fillmode\":\"overlay\",\"size\":10,\"solidity\":0.2}},\"type\":\"bar\"}],\"barpolar\":[{\"marker\":{\"line\":{\"color\":\"#E5ECF6\",\"width\":0.5},\"pattern\":{\"fillmode\":\"overlay\",\"size\":10,\"solidity\":0.2}},\"type\":\"barpolar\"}],\"carpet\":[{\"aaxis\":{\"endlinecolor\":\"#2a3f5f\",\"gridcolor\":\"white\",\"linecolor\":\"white\",\"minorgridcolor\":\"white\",\"startlinecolor\":\"#2a3f5f\"},\"baxis\":{\"endlinecolor\":\"#2a3f5f\",\"gridcolor\":\"white\",\"linecolor\":\"white\",\"minorgridcolor\":\"white\",\"startlinecolor\":\"#2a3f5f\"},\"type\":\"carpet\"}],\"choropleth\":[{\"colorbar\":{\"outlinewidth\":0,\"ticks\":\"\"},\"type\":\"choropleth\"}],\"contour\":[{\"colorbar\":{\"outlinewidth\":0,\"ticks\":\"\"},\"colorscale\":[[0.0,\"#0d0887\"],[0.1111111111111111,\"#46039f\"],[0.2222222222222222,\"#7201a8\"],[0.3333333333333333,\"#9c179e\"],[0.4444444444444444,\"#bd3786\"],[0.5555555555555556,\"#d8576b\"],[0.6666666666666666,\"#ed7953\"],[0.7777777777777778,\"#fb9f3a\"],[0.8888888888888888,\"#fdca26\"],[1.0,\"#f0f921\"]],\"type\":\"contour\"}],\"contourcarpet\":[{\"colorbar\":{\"outlinewidth\":0,\"ticks\":\"\"},\"type\":\"contourcarpet\"}],\"heatmap\":[{\"colorbar\":{\"outlinewidth\":0,\"ticks\":\"\"},\"colorscale\":[[0.0,\"#0d0887\"],[0.1111111111111111,\"#46039f\"],[0.2222222222222222,\"#7201a8\"],[0.3333333333333333,\"#9c179e\"],[0.4444444444444444,\"#bd3786\"],[0.5555555555555556,\"#d8576b\"],[0.6666666666666666,\"#ed7953\"],[0.7777777777777778,\"#fb9f3a\"],[0.8888888888888888,\"#fdca26\"],[1.0,\"#f0f921\"]],\"type\":\"heatmap\"}],\"heatmapgl\":[{\"colorbar\":{\"outlinewidth\":0,\"ticks\":\"\"},\"colorscale\":[[0.0,\"#0d0887\"],[0.1111111111111111,\"#46039f\"],[0.2222222222222222,\"#7201a8\"],[0.3333333333333333,\"#9c179e\"],[0.4444444444444444,\"#bd3786\"],[0.5555555555555556,\"#d8576b\"],[0.6666666666666666,\"#ed7953\"],[0.7777777777777778,\"#fb9f3a\"],[0.8888888888888888,\"#fdca26\"],[1.0,\"#f0f921\"]],\"type\":\"heatmapgl\"}],\"histogram\":[{\"marker\":{\"pattern\":{\"fillmode\":\"overlay\",\"size\":10,\"solidity\":0.2}},\"type\":\"histogram\"}],\"histogram2d\":[{\"colorbar\":{\"outlinewidth\":0,\"ticks\":\"\"},\"colorscale\":[[0.0,\"#0d0887\"],[0.1111111111111111,\"#46039f\"],[0.2222222222222222,\"#7201a8\"],[0.3333333333333333,\"#9c179e\"],[0.4444444444444444,\"#bd3786\"],[0.5555555555555556,\"#d8576b\"],[0.6666666666666666,\"#ed7953\"],[0.7777777777777778,\"#fb9f3a\"],[0.8888888888888888,\"#fdca26\"],[1.0,\"#f0f921\"]],\"type\":\"histogram2d\"}],\"histogram2dcontour\":[{\"colorbar\":{\"outlinewidth\":0,\"ticks\":\"\"},\"colorscale\":[[0.0,\"#0d0887\"],[0.1111111111111111,\"#46039f\"],[0.2222222222222222,\"#7201a8\"],[0.3333333333333333,\"#9c179e\"],[0.4444444444444444,\"#bd3786\"],[0.5555555555555556,\"#d8576b\"],[0.6666666666666666,\"#ed7953\"],[0.7777777777777778,\"#fb9f3a\"],[0.8888888888888888,\"#fdca26\"],[1.0,\"#f0f921\"]],\"type\":\"histogram2dcontour\"}],\"mesh3d\":[{\"colorbar\":{\"outlinewidth\":0,\"ticks\":\"\"},\"type\":\"mesh3d\"}],\"parcoords\":[{\"line\":{\"colorbar\":{\"outlinewidth\":0,\"ticks\":\"\"}},\"type\":\"parcoords\"}],\"pie\":[{\"automargin\":true,\"type\":\"pie\"}],\"scatter\":[{\"marker\":{\"colorbar\":{\"outlinewidth\":0,\"ticks\":\"\"}},\"type\":\"scatter\"}],\"scatter3d\":[{\"line\":{\"colorbar\":{\"outlinewidth\":0,\"ticks\":\"\"}},\"marker\":{\"colorbar\":{\"outlinewidth\":0,\"ticks\":\"\"}},\"type\":\"scatter3d\"}],\"scattercarpet\":[{\"marker\":{\"colorbar\":{\"outlinewidth\":0,\"ticks\":\"\"}},\"type\":\"scattercarpet\"}],\"scattergeo\":[{\"marker\":{\"colorbar\":{\"outlinewidth\":0,\"ticks\":\"\"}},\"type\":\"scattergeo\"}],\"scattergl\":[{\"marker\":{\"colorbar\":{\"outlinewidth\":0,\"ticks\":\"\"}},\"type\":\"scattergl\"}],\"scattermapbox\":[{\"marker\":{\"colorbar\":{\"outlinewidth\":0,\"ticks\":\"\"}},\"type\":\"scattermapbox\"}],\"scatterpolar\":[{\"marker\":{\"colorbar\":{\"outlinewidth\":0,\"ticks\":\"\"}},\"type\":\"scatterpolar\"}],\"scatterpolargl\":[{\"marker\":{\"colorbar\":{\"outlinewidth\":0,\"ticks\":\"\"}},\"type\":\"scatterpolargl\"}],\"scatterternary\":[{\"marker\":{\"colorbar\":{\"outlinewidth\":0,\"ticks\":\"\"}},\"type\":\"scatterternary\"}],\"surface\":[{\"colorbar\":{\"outlinewidth\":0,\"ticks\":\"\"},\"colorscale\":[[0.0,\"#0d0887\"],[0.1111111111111111,\"#46039f\"],[0.2222222222222222,\"#7201a8\"],[0.3333333333333333,\"#9c179e\"],[0.4444444444444444,\"#bd3786\"],[0.5555555555555556,\"#d8576b\"],[0.6666666666666666,\"#ed7953\"],[0.7777777777777778,\"#fb9f3a\"],[0.8888888888888888,\"#fdca26\"],[1.0,\"#f0f921\"]],\"type\":\"surface\"}],\"table\":[{\"cells\":{\"fill\":{\"color\":\"#EBF0F8\"},\"line\":{\"color\":\"white\"}},\"header\":{\"fill\":{\"color\":\"#C8D4E3\"},\"line\":{\"color\":\"white\"}},\"type\":\"table\"}]},\"layout\":{\"annotationdefaults\":{\"arrowcolor\":\"#2a3f5f\",\"arrowhead\":0,\"arrowwidth\":1},\"autotypenumbers\":\"strict\",\"coloraxis\":{\"colorbar\":{\"outlinewidth\":0,\"ticks\":\"\"}},\"colorscale\":{\"diverging\":[[0,\"#8e0152\"],[0.1,\"#c51b7d\"],[0.2,\"#de77ae\"],[0.3,\"#f1b6da\"],[0.4,\"#fde0ef\"],[0.5,\"#f7f7f7\"],[0.6,\"#e6f5d0\"],[0.7,\"#b8e186\"],[0.8,\"#7fbc41\"],[0.9,\"#4d9221\"],[1,\"#276419\"]],\"sequential\":[[0.0,\"#0d0887\"],[0.1111111111111111,\"#46039f\"],[0.2222222222222222,\"#7201a8\"],[0.3333333333333333,\"#9c179e\"],[0.4444444444444444,\"#bd3786\"],[0.5555555555555556,\"#d8576b\"],[0.6666666666666666,\"#ed7953\"],[0.7777777777777778,\"#fb9f3a\"],[0.8888888888888888,\"#fdca26\"],[1.0,\"#f0f921\"]],\"sequentialminus\":[[0.0,\"#0d0887\"],[0.1111111111111111,\"#46039f\"],[0.2222222222222222,\"#7201a8\"],[0.3333333333333333,\"#9c179e\"],[0.4444444444444444,\"#bd3786\"],[0.5555555555555556,\"#d8576b\"],[0.6666666666666666,\"#ed7953\"],[0.7777777777777778,\"#fb9f3a\"],[0.8888888888888888,\"#fdca26\"],[1.0,\"#f0f921\"]]},\"colorway\":[\"#636efa\",\"#EF553B\",\"#00cc96\",\"#ab63fa\",\"#FFA15A\",\"#19d3f3\",\"#FF6692\",\"#B6E880\",\"#FF97FF\",\"#FECB52\"],\"font\":{\"color\":\"#2a3f5f\"},\"geo\":{\"bgcolor\":\"white\",\"lakecolor\":\"white\",\"landcolor\":\"#E5ECF6\",\"showlakes\":true,\"showland\":true,\"subunitcolor\":\"white\"},\"hoverlabel\":{\"align\":\"left\"},\"hovermode\":\"closest\",\"mapbox\":{\"style\":\"light\"},\"paper_bgcolor\":\"white\",\"plot_bgcolor\":\"#E5ECF6\",\"polar\":{\"angularaxis\":{\"gridcolor\":\"white\",\"linecolor\":\"white\",\"ticks\":\"\"},\"bgcolor\":\"#E5ECF6\",\"radialaxis\":{\"gridcolor\":\"white\",\"linecolor\":\"white\",\"ticks\":\"\"}},\"scene\":{\"xaxis\":{\"backgroundcolor\":\"#E5ECF6\",\"gridcolor\":\"white\",\"gridwidth\":2,\"linecolor\":\"white\",\"showbackground\":true,\"ticks\":\"\",\"zerolinecolor\":\"white\"},\"yaxis\":{\"backgroundcolor\":\"#E5ECF6\",\"gridcolor\":\"white\",\"gridwidth\":2,\"linecolor\":\"white\",\"showbackground\":true,\"ticks\":\"\",\"zerolinecolor\":\"white\"},\"zaxis\":{\"backgroundcolor\":\"#E5ECF6\",\"gridcolor\":\"white\",\"gridwidth\":2,\"linecolor\":\"white\",\"showbackground\":true,\"ticks\":\"\",\"zerolinecolor\":\"white\"}},\"shapedefaults\":{\"line\":{\"color\":\"#2a3f5f\"}},\"ternary\":{\"aaxis\":{\"gridcolor\":\"white\",\"linecolor\":\"white\",\"ticks\":\"\"},\"baxis\":{\"gridcolor\":\"white\",\"linecolor\":\"white\",\"ticks\":\"\"},\"bgcolor\":\"#E5ECF6\",\"caxis\":{\"gridcolor\":\"white\",\"linecolor\":\"white\",\"ticks\":\"\"}},\"title\":{\"x\":0.05},\"xaxis\":{\"automargin\":true,\"gridcolor\":\"white\",\"linecolor\":\"white\",\"ticks\":\"\",\"title\":{\"standoff\":15},\"zerolinecolor\":\"white\",\"zerolinewidth\":2},\"yaxis\":{\"automargin\":true,\"gridcolor\":\"white\",\"linecolor\":\"white\",\"ticks\":\"\",\"title\":{\"standoff\":15},\"zerolinecolor\":\"white\",\"zerolinewidth\":2}}},\"title\":{\"text\":\"Visualisation of Gaussian Mixture Model clustering\"}},                        {\"responsive\": true}                    ).then(function(){\n                            \nvar gd = document.getElementById('9d0f5d22-3d69-4127-9b37-47a9a7fe249f');\nvar x = new MutationObserver(function (mutations, observer) {{\n        var display = window.getComputedStyle(gd).display;\n        if (!display || display === 'none') {{\n            console.log([gd, 'removed!']);\n            Plotly.purge(gd);\n            observer.disconnect();\n        }}\n}});\n\n// Listen for the removal of the full notebook cells\nvar notebookContainer = gd.closest('#notebook-container');\nif (notebookContainer) {{\n    x.observe(notebookContainer, {childList: true});\n}}\n\n// Listen for the clearing of the current output cell\nvar outputEl = gd.closest('.output');\nif (outputEl) {{\n    x.observe(outputEl, {childList: true});\n}}\n\n                        })                };                            </script>        </div>\n</body>\n</html>"
     },
     "metadata": {},
     "output_type": "display_data"
    }
   ],
   "execution_count": null
  },
  {
   "cell_type": "markdown",
   "source": "### ",
   "metadata": {
    "tags": [],
    "is_collapsed": false,
    "cell_id": "00037-32171c7d-409a-40e0-93ef-767166ec2a1a",
    "deepnote_cell_type": "text-cell-h3"
   }
  },
  {
   "cell_type": "markdown",
   "source": "## Part 3",
   "metadata": {
    "tags": [],
    "is_collapsed": true,
    "cell_id": "00021-eba768d3-a493-4bc0-9e2a-bbc1aec6f24a",
    "deepnote_cell_type": "text-cell-h2"
   }
  },
  {
   "cell_type": "code",
   "source": "def mapping(test_labels,y_test):\n    perm = permutations([1, 2, 3, 4, 5, 6, 7])\n    reference_labels = []\n    score = 0\n    for i in list(perm):\n        relabel = np.choose(test_labels,i).astype(np.int64)\n        new_score = f1_score(y_test, relabel, average='weighted')\n        if new_score > score:\n            reference_labels = i\n            score = new_score\n    #print(reference_labels)\n    return score",
   "metadata": {
    "tags": [],
    "cell_id": "00042-bf24dd96-d54b-4071-8c35-a29925ff27cc",
    "deepnote_to_be_reexecuted": false,
    "source_hash": "ab229c0e",
    "execution_start": 1638100312762,
    "execution_millis": 5,
    "deepnote_cell_type": "code"
   },
   "outputs": [],
   "execution_count": null
  },
  {
   "cell_type": "markdown",
   "source": "### K means",
   "metadata": {
    "tags": [],
    "is_collapsed": false,
    "cell_id": "00025-6b905dd6-b563-4807-8443-5662e8dc5a51",
    "deepnote_cell_type": "text-cell-h3"
   }
  },
  {
   "cell_type": "code",
   "metadata": {
    "tags": [],
    "cell_id": "00026-19c96ffb-811a-4aa8-b06b-f69af3ae5ed3",
    "deepnote_to_be_reexecuted": false,
    "source_hash": "2470a439",
    "execution_start": 1638100319267,
    "execution_millis": 29979,
    "deepnote_cell_type": "code"
   },
   "source": "print(\"AMI score for K-means Clustering Model and target label:\")\nprint(adjusted_mutual_info_score(y, labels_km)) \nprint(\"F1 score for  K-means model:\")\nprint(mapping(labels_km,y)) ",
   "outputs": [
    {
     "name": "stdout",
     "text": "AMI score for K-means Clustering Model and target label:\n0.3271954656782891\nF1 score for  K-means model:\n0.39383861774656026\n",
     "output_type": "stream"
    }
   ],
   "execution_count": null
  },
  {
   "cell_type": "markdown",
   "source": "### Birch Clustering",
   "metadata": {
    "tags": [],
    "is_collapsed": false,
    "cell_id": "00025-3e5a3543-d89c-4fa3-82d3-e2e4d5c0a3f8",
    "deepnote_cell_type": "text-cell-h3"
   }
  },
  {
   "cell_type": "code",
   "metadata": {
    "tags": [],
    "cell_id": "00021-154d0dc0-f344-41f4-8338-98e91985c024",
    "deepnote_to_be_reexecuted": false,
    "source_hash": "33e7d4e8",
    "execution_start": 1638100503051,
    "execution_millis": 26446,
    "deepnote_output_heights": [
     null,
     607
    ],
    "deepnote_cell_type": "code"
   },
   "source": "print(\"AMI score for Birch Clustering and target label:\")\nprint(adjusted_mutual_info_score(y, labels_br)) \nprint(\"F1 score for Birch Clustering Model:\")\nprint(mapping(labels_br,y)) ",
   "outputs": [
    {
     "name": "stdout",
     "text": "AMI score for Birch Clustering and target label:\n0.29693917836667943\nF1 score for Birch Clustering Model:\n0.21335063105938967\n",
     "output_type": "stream"
    }
   ],
   "execution_count": null
  },
  {
   "cell_type": "markdown",
   "source": "### Agglomerative Clustering",
   "metadata": {
    "tags": [],
    "is_collapsed": false,
    "cell_id": "00031-e9f19706-c10f-475f-bda6-053e51cca915",
    "deepnote_cell_type": "text-cell-h3"
   }
  },
  {
   "cell_type": "code",
   "metadata": {
    "tags": [],
    "cell_id": "00043-dba2bd40-1fe0-41f0-8b6b-429713492bab",
    "deepnote_to_be_reexecuted": false,
    "source_hash": "1e0545e7",
    "execution_start": 1638100529499,
    "execution_millis": 29659,
    "deepnote_cell_type": "code"
   },
   "source": "print(\"AMI score for Agglomerative Clustering and target label:\")\nprint(adjusted_mutual_info_score(y, labels_ac))\nprint(\"F1 score for Agglomerative Clustering Model:\")\nprint(mapping(labels_ac,y))  ",
   "outputs": [
    {
     "name": "stdout",
     "text": "AMI score for Agglomerative Clustering and target label:\n0.34335008076215795\nF1 score for Agglomerative Clustering Model:\n0.3956528769418069\n",
     "output_type": "stream"
    }
   ],
   "execution_count": null
  },
  {
   "cell_type": "markdown",
   "source": "### Gaussian Mixture Model",
   "metadata": {
    "tags": [],
    "is_collapsed": false,
    "cell_id": "00057-62875680-54a8-4d2b-9a44-03ad5951a1d7",
    "deepnote_cell_type": "text-cell-h3"
   }
  },
  {
   "cell_type": "code",
   "metadata": {
    "tags": [],
    "cell_id": "00058-d8cc5cf2-53fc-460b-b63b-f856b9121f75",
    "deepnote_to_be_reexecuted": false,
    "source_hash": "5f4c8b6f",
    "execution_start": 1638100559162,
    "execution_millis": 26378,
    "deepnote_cell_type": "code"
   },
   "source": "print(\"AMI score for Gaussian Mixture and target label:\")\nprint(adjusted_mutual_info_score(y, labels_gm))\nprint(\"F1 score for Gaussian Mixture Model:\")\nprint(mapping(labels_gm,y)) ",
   "outputs": [
    {
     "name": "stdout",
     "text": "AMI score for Gaussian Mixture and target label:\n0.3289733493692009\nF1 score for Gaussian Mixture Model:\n0.2206982189791166\n",
     "output_type": "stream"
    }
   ],
   "execution_count": null
  },
  {
   "cell_type": "markdown",
   "source": "## Part 4 ",
   "metadata": {
    "tags": [],
    "is_collapsed": true,
    "cell_id": "00051-2584fb10-91be-4f3a-a5d5-f1b4819d3d28",
    "deepnote_cell_type": "text-cell-h2"
   }
  },
  {
   "cell_type": "code",
   "metadata": {
    "tags": [],
    "cell_id": "00056-c44989ce-4423-42e3-8fef-366c91b10b9a",
    "deepnote_to_be_reexecuted": true,
    "source_hash": "f7a193d1",
    "execution_start": 1638026784730,
    "execution_millis": 7,
    "deepnote_cell_type": "code"
   },
   "source": "#Gaussian model and Agglomerative Clustering\nprint(adjusted_mutual_info_score(labels_ac, labels_gm))",
   "execution_count": null,
   "outputs": [
    {
     "name": "stdout",
     "text": "0.5574392687684919\n",
     "output_type": "stream"
    }
   ]
  },
  {
   "cell_type": "code",
   "metadata": {
    "tags": [],
    "cell_id": "00057-76f9587e-a951-484e-b73e-b97a31d2b0fe",
    "deepnote_to_be_reexecuted": true,
    "source_hash": "b28e17e7",
    "execution_start": 1638027679335,
    "execution_millis": 33,
    "deepnote_cell_type": "code"
   },
   "source": "#Gaussian model and Birch Clustering\nprint(adjusted_mutual_info_score(labels_br, labels_gm))",
   "execution_count": null,
   "outputs": [
    {
     "name": "stdout",
     "text": "0.46241293720836163\n",
     "output_type": "stream"
    }
   ]
  },
  {
   "cell_type": "code",
   "metadata": {
    "tags": [],
    "cell_id": "00058-b67bb5fc-edd8-4015-9676-adcca1f14840",
    "deepnote_to_be_reexecuted": true,
    "source_hash": "3fca9257",
    "execution_start": 1638027769825,
    "execution_millis": 7,
    "deepnote_cell_type": "code"
   },
   "source": "#Gaussian model and K-means Clustering\nprint(adjusted_mutual_info_score(labels_km, labels_gm))",
   "execution_count": null,
   "outputs": [
    {
     "name": "stdout",
     "text": "0.5700402507139478\n",
     "output_type": "stream"
    }
   ]
  },
  {
   "cell_type": "markdown",
   "source": "<a style='text-decoration:none;line-height:16px;display:flex;color:#5B5B62;padding:10px;justify-content:end;' href='https://deepnote.com?utm_source=created-in-deepnote-cell&projectId=7f51241e-cd4a-4305-b6ca-3ee7cda73020' target=\"_blank\">\n<img alt='Created in deepnote.com' style='display:inline;max-height:16px;margin:0px;margin-right:7.5px;' src='data:image/svg+xml;base64,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' > </img>\nCreated in <span style='font-weight:600;margin-left:4px;'>Deepnote</span></a>",
   "metadata": {
    "tags": [],
    "created_in_deepnote_cell": true,
    "deepnote_cell_type": "markdown"
   }
  }
 ],
 "nbformat": 4,
 "nbformat_minor": 2,
 "metadata": {
  "orig_nbformat": 2,
  "deepnote": {
   "is_reactive": false
  },
  "deepnote_notebook_id": "365c6734-f82a-4d0b-a074-e39ff44cecac",
  "deepnote_execution_queue": []
 }
}